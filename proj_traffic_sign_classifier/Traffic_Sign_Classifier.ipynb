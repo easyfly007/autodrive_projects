{
 "cells": [
  {
   "cell_type": "markdown",
   "metadata": {},
   "source": [
    "# Self-Driving Car Engineer Nanodegree\n",
    "\n",
    "## Deep Learning\n",
    "\n",
    "## Project: Build a Traffic Sign Recognition Classifier\n",
    "\n",
    "In this notebook, a template is provided for you to implement your functionality in stages, which is required to successfully complete this project. If additional code is required that cannot be included in the notebook, be sure that the Python code is successfully imported and included in your submission if necessary. \n",
    "\n",
    "> **Note**: Once you have completed all of the code implementations, you need to finalize your work by exporting the iPython Notebook as an HTML document. Before exporting the notebook to html, all of the code cells need to have been run so that reviewers can see the final implementation and output. You can then export the notebook by using the menu above and navigating to  \\n\",\n",
    "    \"**File -> Download as -> HTML (.html)**. Include the finished document along with this notebook as your submission. \n",
    "\n",
    "In addition to implementing code, there is a writeup to complete. The writeup should be completed in a separate file, which can be either a markdown file or a pdf document. There is a [write up template](https://github.com/udacity/CarND-Traffic-Sign-Classifier-Project/blob/master/writeup_template.md) that can be used to guide the writing process. Completing the code template and writeup template will cover all of the [rubric points](https://review.udacity.com/#!/rubrics/481/view) for this project.\n",
    "\n",
    "The [rubric](https://review.udacity.com/#!/rubrics/481/view) contains \"Stand Out Suggestions\" for enhancing the project beyond the minimum requirements. The stand out suggestions are optional. If you decide to pursue the \"stand out suggestions\", you can include the code in this Ipython notebook and also discuss the results in the writeup file.\n",
    "\n",
    "\n",
    ">**Note:** Code and Markdown cells can be executed using the **Shift + Enter** keyboard shortcut. In addition, Markdown cells can be edited by typically double-clicking the cell to enter edit mode."
   ]
  },
  {
   "cell_type": "markdown",
   "metadata": {},
   "source": [
    "---\n",
    "## Step 0: Load The Data"
   ]
  },
  {
   "cell_type": "code",
   "execution_count": 1,
   "metadata": {
    "collapsed": true
   },
   "outputs": [],
   "source": [
    "# Load pickled data\n",
    "import pickle\n",
    "\n",
    "# TODO: Fill this in based on where you saved the training and testing data\n",
    "\n",
    "training_file = './traffic-signs-data/train.p'\n",
    "validation_file= './traffic-signs-data/valid.p'\n",
    "testing_file = './traffic-signs-data/test.p'\n",
    "\n",
    "logs_path = './log'\n",
    "\n",
    "with open(training_file, mode='rb') as f:\n",
    "    train = pickle.load(f)\n",
    "with open(validation_file, mode='rb') as f:\n",
    "    valid = pickle.load(f)\n",
    "with open(testing_file, mode='rb') as f:\n",
    "    test = pickle.load(f)\n",
    "    \n",
    "X_train, y_train = train['features'], train['labels']\n",
    "X_valid, y_valid = valid['features'], valid['labels']\n",
    "X_test, y_test = test['features'], test['labels']"
   ]
  },
  {
   "cell_type": "markdown",
   "metadata": {},
   "source": [
    "---\n",
    "\n",
    "## Step 1: Dataset Summary & Exploration\n",
    "\n",
    "The pickled data is a dictionary with 4 key/value pairs:\n",
    "\n",
    "- `'features'` is a 4D array containing raw pixel data of the traffic sign images, (num examples, width, height, channels).\n",
    "- `'labels'` is a 1D array containing the label/class id of the traffic sign. The file `signnames.csv` contains id -> name mappings for each id.\n",
    "- `'sizes'` is a list containing tuples, (width, height) representing the original width and height the image.\n",
    "- `'coords'` is a list containing tuples, (x1, y1, x2, y2) representing coordinates of a bounding box around the sign in the image. **THESE COORDINATES ASSUME THE ORIGINAL IMAGE. THE PICKLED DATA CONTAINS RESIZED VERSIONS (32 by 32) OF THESE IMAGES**\n",
    "\n",
    "Complete the basic data summary below. Use python, numpy and/or pandas methods to calculate the data summary rather than hard coding the results. For example, the [pandas shape method](http://pandas.pydata.org/pandas-docs/stable/generated/pandas.DataFrame.shape.html) might be useful for calculating some of the summary results. "
   ]
  },
  {
   "cell_type": "markdown",
   "metadata": {},
   "source": [
    "### Provide a Basic Summary of the Data Set Using Python, Numpy and/or Pandas"
   ]
  },
  {
   "cell_type": "code",
   "execution_count": 2,
   "metadata": {},
   "outputs": [
    {
     "name": "stdout",
     "output_type": "stream",
     "text": [
      "Number of training examples = 34799\n",
      "Number of testing examples = 12630\n",
      "Image data shape = [32, 32, 3]\n",
      "Number of classes = 43\n"
     ]
    }
   ],
   "source": [
    "### Replace each question mark with the appropriate value. \n",
    "### Use python, pandas or numpy methods rather than hard coding the results\n",
    "\n",
    "# TODO: Number of training examples\n",
    "assert len(X_train) == len(y_train)\n",
    "n_train = len(y_train)\n",
    "# n_train = y_train.shape[0]\n",
    "\n",
    "# TODO: Number of validation examples\n",
    "assert len(X_valid) == len(y_valid)\n",
    "n_validation = len(y_valid)\n",
    "# n_validation = y_valid.shape[0]\n",
    "\n",
    "# TODO: Number of testing examples.\n",
    "assert len(X_test) == len(y_test)\n",
    "n_test = len(y_test)\n",
    "\n",
    "# TODO: What's the shape of an traffic sign image?\n",
    "\n",
    "image_shape = [32,32,3]  \n",
    "\n",
    "# TODO: How many unique classes/labels there are in the dataset.\n",
    "n_classes = 43\n",
    "\n",
    "print(\"Number of training examples =\", n_train)\n",
    "print(\"Number of testing examples =\", n_test)\n",
    "print(\"Image data shape =\", image_shape)\n",
    "print(\"Number of classes =\", n_classes)"
   ]
  },
  {
   "cell_type": "markdown",
   "metadata": {},
   "source": [
    "### Include an exploratory visualization of the dataset"
   ]
  },
  {
   "cell_type": "markdown",
   "metadata": {},
   "source": [
    "Visualize the German Traffic Signs Dataset using the pickled file(s). This is open ended, suggestions include: plotting traffic sign images, plotting the count of each sign, etc. \n",
    "\n",
    "The [Matplotlib](http://matplotlib.org/) [examples](http://matplotlib.org/examples/index.html) and [gallery](http://matplotlib.org/gallery.html) pages are a great resource for doing visualizations in Python.\n",
    "\n",
    "**NOTE:** It's recommended you start with something simple first. If you wish to do more, come back to it after you've completed the rest of the sections. It can be interesting to look at the distribution of classes in the training, validation and test set. Is the distribution the same? Are there more examples of some classes than others?"
   ]
  },
  {
   "cell_type": "code",
   "execution_count": 3,
   "metadata": {
    "scrolled": true
   },
   "outputs": [
    {
     "name": "stdout",
     "output_type": "stream",
     "text": [
      "31\n"
     ]
    },
    {
     "data": {
      "image/png": "[encoded data removed]",
      "text/plain": [
       "<matplotlib.figure.Figure at 0x265671eb9b0>"
      ]
     },
     "metadata": {},
     "output_type": "display_data"
    },
    {
     "name": "stdout",
     "output_type": "stream",
     "text": [
      "41\n"
     ]
    },
    {
     "data": {
      "image/png": "[encoded data removed]",
      "text/plain": [
       "<matplotlib.figure.Figure at 0x265672e7320>"
      ]
     },
     "metadata": {},
     "output_type": "display_data"
    }
   ],
   "source": [
    "### Data exploration visualization code goes here.\n",
    "### Feel free to use as many code cells as needed.\n",
    "import matplotlib.pyplot as plt\n",
    "# Visualizations will be shown in the notebook.\n",
    "%matplotlib inline\n",
    "i = 2\n",
    "plt.imshow(X_train[234])\n",
    "print(y_train[234])\n",
    "plt.show()\n",
    "plt.imshow(X_train[122])\n",
    "print(y_train[122])\n",
    "plt.show()"
   ]
  },
  {
   "cell_type": "code",
   "execution_count": 4,
   "metadata": {},
   "outputs": [
    {
     "data": {
      "text/plain": [
       "<matplotlib.text.Text at 0x2656843ac88>"
      ]
     },
     "execution_count": 4,
     "metadata": {},
     "output_type": "execute_result"
    },
    {
     "data": {
      "image/png": "[encoded data removed]",
      "text/plain": [
       "<matplotlib.figure.Figure at 0x26566484dd8>"
      ]
     },
     "metadata": {},
     "output_type": "display_data"
    }
   ],
   "source": [
    "# to plot the distribution of the samples for train and valid and test\n",
    "n, bin, patches = plt.hist([y_train, y_valid], bins = 43)\n",
    "plt.xlabel('traffic sign types')\n",
    "plt.ylabel('sample count')\n",
    "\n"
   ]
  },
  {
   "cell_type": "markdown",
   "metadata": {},
   "source": [
    "----\n",
    "\n",
    "## Step 2: Design and Test a Model Architecture\n",
    "\n",
    "Design and implement a deep learning model that learns to recognize traffic signs. Train and test your model on the [German Traffic Sign Dataset](http://benchmark.ini.rub.de/?section=gtsrb&subsection=dataset).\n",
    "\n",
    "The LeNet-5 implementation shown in the [classroom](https://classroom.udacity.com/nanodegrees/nd013/parts/fbf77062-5703-404e-b60c-95b78b2f3f9e/modules/6df7ae49-c61c-4bb2-a23e-6527e69209ec/lessons/601ae704-1035-4287-8b11-e2c2716217ad/concepts/d4aca031-508f-4e0b-b493-e7b706120f81) at the end of the CNN lesson is a solid starting point. You'll have to change the number of classes and possibly the preprocessing, but aside from that it's plug and play! \n",
    "\n",
    "With the LeNet-5 solution from the lecture, you should expect a validation set accuracy of about 0.89. To meet specifications, the validation set accuracy will need to be at least 0.93. It is possible to get an even higher accuracy, but 0.93 is the minimum for a successful project submission. \n",
    "\n",
    "There are various aspects to consider when thinking about this problem:\n",
    "\n",
    "- Neural network architecture (is the network over or underfitting?)\n",
    "- Play around preprocessing techniques (normalization, rgb to grayscale, etc)\n",
    "- Number of examples per label (some have more than others).\n",
    "- Generate fake data.\n",
    "\n",
    "Here is an example of a [published baseline model on this problem](http://yann.lecun.com/exdb/publis/pdf/sermanet-ijcnn-11.pdf). It's not required to be familiar with the approach used in the paper but, it's good practice to try to read papers like these."
   ]
  },
  {
   "cell_type": "markdown",
   "metadata": {},
   "source": [
    "### Pre-process the Data Set (normalization, grayscale, etc.)"
   ]
  },
  {
   "cell_type": "markdown",
   "metadata": {},
   "source": [
    "Minimally, the image data should be normalized so that the data has mean zero and equal variance. For image data, `(pixel - 128)/ 128` is a quick way to approximately normalize the data and can be used in this project. \n",
    "\n",
    "Other pre-processing steps are optional. You can try different techniques to see if it improves performance. \n",
    "\n",
    "Use the code cell (or multiple code cells, if necessary) to implement the first step of your project."
   ]
  },
  {
   "cell_type": "code",
   "execution_count": 5,
   "metadata": {},
   "outputs": [
    {
     "data": {
      "image/png": "[encoded data removed]",
      "text/plain": [
       "<matplotlib.figure.Figure at 0x265684fea20>"
      ]
     },
     "metadata": {},
     "output_type": "display_data"
    },
    {
     "name": "stdout",
     "output_type": "stream",
     "text": [
      "(34799, 32, 32, 1)\n",
      "(34799, 32, 32, 3)\n"
     ]
    },
    {
     "data": {
      "image/png": "[encoded data removed]",
      "text/plain": [
       "<matplotlib.figure.Figure at 0x26500038c50>"
      ]
     },
     "metadata": {},
     "output_type": "display_data"
    }
   ],
   "source": [
    "### Preprocess the data here. It is required to normalize the data. Other preprocessing steps could include \n",
    "### converting to grayscale, etc.\n",
    "### Feel free to use as many code cells as needed.\n",
    "import numpy as np\n",
    "\n",
    "X_train_input = np.mean(X_train, axis = 3)/255\n",
    "plt.imshow(X_train_input[234], cmap = 'gray')\n",
    "plt.show()\n",
    "\n",
    "X_train_input = np.expand_dims(X_train_input, axis = 4)\n",
    "\n",
    "X_valid_input = np.mean(X_valid, axis = 3)/255\n",
    "X_valid_input = np.expand_dims(X_valid_input, axis = 4)\n",
    "\n",
    "X_test_input  = np.mean(X_test, axis = 3) / 255\n",
    "X_test_input  = np.expand_dims(X_test_input, axis = 4)\n",
    "\n",
    "print(X_train_input.shape)\n",
    "print(X_train.shape)\n",
    "\n",
    "plt.imshow(X_train[234])\n",
    "plt.show()\n",
    "\n",
    "# now X_train_input, X_valid_input, X_test_input as the input for the network,"
   ]
  },
  {
   "cell_type": "markdown",
   "metadata": {},
   "source": [
    "### Model Architecture"
   ]
  },
  {
   "cell_type": "code",
   "execution_count": 6,
   "metadata": {
    "collapsed": true
   },
   "outputs": [],
   "source": [
    "### Define your architecture here.\n",
    "### Feel free to use as many code cells as needed.\n",
    "\n",
    "import tensorflow as tf\n",
    "# copied from previous LeNet solution, but changed the final output class number to 43 instead of 10\n",
    "def buildNet(x, keep_rate):\n",
    "    mu = 0\n",
    "    sigma = 0.01\n",
    "    \n",
    "    # after conv1, shape from (32, 32, 1) => (28, 28, 6) => (14, 14, 6)\n",
    "    conv1_W = tf.Variable(tf.truncated_normal(shape=(5, 5, 1, 6), mean = mu, stddev = sigma))\n",
    "    conv1_b = tf.Variable(tf.zeros(6))\n",
    "    conv1   = tf.nn.conv2d(x, conv1_W, strides=[1, 1, 1, 1], padding='VALID') + conv1_b\n",
    "    conv1 = tf.nn.relu(conv1)\n",
    "    conv1 = tf.nn.max_pool(conv1, ksize=[1, 2, 2, 1], strides=[1, 2, 2, 1], padding='VALID')\n",
    "\n",
    "    # after conv2, shape from (14, 14, 6) => (10, 10, 16) => (5, 5, 16)\n",
    "    conv2_W = tf.Variable(tf.truncated_normal(shape=(5, 5, 6, 16), mean = mu, stddev = sigma))\n",
    "    conv2_b = tf.Variable(tf.zeros(16))\n",
    "    conv2   = tf.nn.conv2d(conv1, conv2_W, strides=[1, 1, 1, 1], padding='VALID') + conv2_b\n",
    "    conv2 = tf.nn.relu(conv2)\n",
    "    conv2 = tf.nn.max_pool(conv2, ksize=[1, 2, 2, 1], strides=[1, 2, 2, 1], padding='VALID')\n",
    "\n",
    "    # flattern, shape from (5,5,16) =>(400)\n",
    "    fc0   = tf.contrib.layers.flatten(conv2)\n",
    "    \n",
    "    # fc1 layer, shape from (400) => (120)\n",
    "    fc1_W = tf.Variable(tf.truncated_normal(shape=(400, 120), mean = mu, stddev = sigma))\n",
    "    fc1_b = tf.Variable(tf.zeros(120))\n",
    "    fc1   = tf.matmul(fc0, fc1_W) + fc1_b   \n",
    "    fc1   = tf.nn.relu(fc1)\n",
    "    fc1   = tf.nn.dropout(fc1, keep_rate)\n",
    "\n",
    "    # fc2 layer, shape from (120) => (84)\n",
    "    fc2_W  = tf.Variable(tf.truncated_normal(shape=(120, 84), mean = mu, stddev = sigma))\n",
    "    fc2_b  = tf.Variable(tf.zeros(84))\n",
    "    fc2    = tf.matmul(fc1, fc2_W) + fc2_b\n",
    "    fc2    = tf.nn.relu(fc2)\n",
    "    fc2    = tf.nn.dropout(fc2, keep_rate)\n",
    "\n",
    "    # fc3 layer, shape from (84) => n_classes, e.g., 43\n",
    "    fc3_W  = tf.Variable(tf.truncated_normal(shape=(84, n_classes), mean = mu, stddev = sigma))\n",
    "    fc3_b  = tf.Variable(tf.zeros(n_classes))\n",
    "    logits = tf.matmul(fc2, fc3_W) + fc3_b\n",
    "    \n",
    "    return logits\n",
    "\n",
    "# place holdere as input\n",
    "# with tf.name_scope('input'):\n",
    "x = tf.placeholder(dtype = tf.float32, shape = (None, 32, 32, 1))\n",
    "y = tf.placeholder(dtype = tf.int32, shape = (None))\n",
    "one_hot_y = tf.one_hot(y, n_classes)\n",
    "keep_prob = tf.placeholder(dtype = tf.float32)\n"
   ]
  },
  {
   "cell_type": "markdown",
   "metadata": {},
   "source": [
    "### Train, Validate and Test the Model"
   ]
  },
  {
   "cell_type": "markdown",
   "metadata": {},
   "source": [
    "A validation set can be used to assess how well the model is performing. A low accuracy on the training and validation\n",
    "sets imply underfitting. A high accuracy on the training set but low accuracy on the validation set implies overfitting."
   ]
  },
  {
   "cell_type": "code",
   "execution_count": 11,
   "metadata": {
    "collapsed": true
   },
   "outputs": [],
   "source": [
    "### Train your model here.\n",
    "### Calculate and report the accuracy on the training and validation set.\n",
    "### Once a final model architecture is selected, \n",
    "### the accuracy on the test set should be calculated and reported as well.\n",
    "### Feel free to use as many code cells as needed.\n",
    "\n",
    "from sklearn.utils import shuffle\n",
    "\n",
    "#super parameters setting\n",
    "batch_size = 128\n",
    "learning_rate = 0.001\n",
    "\n",
    "logits = buildNet(x, keep_prob)\n",
    "with tf.name_scope('summaries'):\n",
    "    cross_entropy_loss = tf.reduce_mean(tf.nn.softmax_cross_entropy_with_logits(labels = one_hot_y, logits=logits))\n",
    "    optimizer = tf.train.AdamOptimizer(learning_rate = learning_rate)\n",
    "    training_operation = optimizer.minimize(cross_entropy_loss)\n",
    "\n",
    "    correct_prediction = tf.equal(tf.argmax(logits, 1), tf.argmax(one_hot_y, 1))\n",
    "    accuracy_operation = tf.reduce_mean(tf.cast(correct_prediction, tf.float32))\n",
    "#     tf.summary.scalar(\"loss\", cross_entropy_loss)\n",
    "#     tf.summary.scalar(\"accuracy\", accuracy_operation)\n",
    "\n",
    "saver = tf.train.Saver()\n",
    "\n",
    "merged_summary_op = tf.summary.merge_all()\n",
    "def evaluate(sess, X_data, y_data):\n",
    "    num_examples = len(X_data)\n",
    "    total_accuracy = 0.0\n",
    "    for offset in range(0, num_examples, batch_size):\n",
    "        batch_x, batch_y = X_data[offset:offset + batch_size], y_data[offset:offset+batch_size]\n",
    "        # no use of dropout if evaluation the model\n",
    "        feed = {x: batch_x, y: batch_y, keep_prob: 1.0}\n",
    "        accuracy = sess.run(accuracy_operation, feed_dict=feed)\n",
    "        total_accuracy += (accuracy * len(batch_x))\n",
    "    return total_accuracy / num_examples\n",
    "\n",
    "def train(X_data, y_data, epoch = 2, learning_rate = 0.001):\n",
    "    assert len(X_data) == len(y_data)\n",
    "    with tf.Session() as sess:\n",
    "        sess.run(tf.global_variables_initializer())\n",
    "        train_writer = tf.summary.FileWriter(logs_path+ '/train/', graph=tf.get_default_graph())        \n",
    "        print(\"Training begin...\")\n",
    "        print()\n",
    "        num_examples = len(X_data)\n",
    "        for i in range(epoch):\n",
    "            print('epoch ' + str(i+1) + '/'+ str(epoch) +' begin...')\n",
    "            X_data, y_data = shuffle(X_data, y_data)\n",
    "            epoch_train_accuracy = 0.0\n",
    "            for offset in range(0, num_examples, batch_size):\n",
    "                end = offset + batch_size\n",
    "                batch_x, batch_y = X_data[offset:end], y_data[offset:end]\n",
    "                feed = { x: batch_x, y: batch_y, keep_prob: 0.75 }\n",
    "                _, batch_train_accuracy = sess.run(\n",
    "                    [training_operation, accuracy_operation], feed_dict= feed)\n",
    "#                 train_writer.add_summary(summary)\n",
    "                epoch_train_accuracy += batch_train_accuracy * len(batch_x)\n",
    "                \n",
    "            epoch_train_accuracy /= num_examples\n",
    "            print('train accuracy ={:.3f}'.format(epoch_train_accuracy))\n",
    "            validation_accuracy = evaluate(sess, X_valid_input, y_valid)\n",
    "            print(\"Validation Accuracy = {:.3f}\".format(validation_accuracy))\n",
    "            print()\n",
    "        saver.save(sess, './lenet')\n",
    "        train_writer.close()\n",
    "        print(\"Model saved\")\n",
    "\n",
    "        \n",
    "def test(X_data, y_data):\n",
    "    assert len(X_data) == len(y_data)\n",
    "    num_examples = len(X_data)\n",
    "    with tf.Session() as sess:\n",
    "        saver.restore(sess, tf.train.latest_checkpoint('.'))\n",
    "        print('restore previously saved model under ./lenet')\n",
    "        print(\"testing begin...\")\n",
    "        print()\n",
    "        test_accuracy = evaluate(sess, X_data, y_data)\n",
    "        print(\"testing accuracy = {:.3f}\".format(test_accuracy))\n",
    "        print()\n",
    "    return test_accuracy"
   ]
  },
  {
   "cell_type": "code",
   "execution_count": null,
   "metadata": {
    "collapsed": true
   },
   "outputs": [],
   "source": []
  },
  {
   "cell_type": "code",
   "execution_count": 12,
   "metadata": {},
   "outputs": [
    {
     "name": "stdout",
     "output_type": "stream",
     "text": [
      "Training begin...\n",
      "\n",
      "epoch 1/15 begin...\n",
      "train accuracy =0.056\n",
      "Validation Accuracy = 0.048\n",
      "\n",
      "epoch 2/15 begin...\n",
      "train accuracy =0.056\n",
      "Validation Accuracy = 0.054\n",
      "\n",
      "epoch 3/15 begin...\n",
      "train accuracy =0.063\n",
      "Validation Accuracy = 0.074\n",
      "\n",
      "epoch 4/15 begin...\n",
      "train accuracy =0.216\n",
      "Validation Accuracy = 0.422\n",
      "\n",
      "epoch 5/15 begin...\n",
      "train accuracy =0.508\n",
      "Validation Accuracy = 0.613\n",
      "\n",
      "epoch 6/15 begin...\n",
      "train accuracy =0.648\n",
      "Validation Accuracy = 0.725\n",
      "\n",
      "epoch 7/15 begin...\n",
      "train accuracy =0.718\n",
      "Validation Accuracy = 0.770\n",
      "\n",
      "epoch 8/15 begin...\n",
      "train accuracy =0.771\n",
      "Validation Accuracy = 0.792\n",
      "\n",
      "epoch 9/15 begin...\n",
      "train accuracy =0.802\n",
      "Validation Accuracy = 0.829\n",
      "\n",
      "epoch 10/15 begin...\n",
      "train accuracy =0.827\n",
      "Validation Accuracy = 0.845\n",
      "\n",
      "epoch 11/15 begin...\n",
      "train accuracy =0.846\n",
      "Validation Accuracy = 0.847\n",
      "\n",
      "epoch 12/15 begin...\n",
      "train accuracy =0.861\n",
      "Validation Accuracy = 0.858\n",
      "\n",
      "epoch 13/15 begin...\n",
      "train accuracy =0.874\n",
      "Validation Accuracy = 0.861\n",
      "\n",
      "epoch 14/15 begin...\n",
      "train accuracy =0.884\n",
      "Validation Accuracy = 0.869\n",
      "\n",
      "epoch 15/15 begin...\n",
      "train accuracy =0.893\n",
      "Validation Accuracy = 0.872\n",
      "\n",
      "Model saved\n"
     ]
    }
   ],
   "source": [
    "# do training\n",
    "train(X_train_input, y_train, epoch = 15) "
   ]
  },
  {
   "cell_type": "markdown",
   "metadata": {},
   "source": [
    "---\n",
    "\n",
    "## Step 3: Test a Model on New Images\n",
    "\n",
    "To give yourself more insight into how your model is working, download at least five pictures of German traffic signs from the web and use your model to predict the traffic sign type.\n",
    "\n",
    "You may find `signnames.csv` useful as it contains mappings from the class id (integer) to the actual sign name."
   ]
  },
  {
   "cell_type": "markdown",
   "metadata": {},
   "source": [
    "### Load and Output the Images"
   ]
  },
  {
   "cell_type": "code",
   "execution_count": 15,
   "metadata": {
    "scrolled": true
   },
   "outputs": [
    {
     "name": "stdout",
     "output_type": "stream",
     "text": [
      "restore previously saved model under ./lenet\n",
      "testing begin...\n",
      "\n",
      "testing accuracy = 0.863\n",
      "\n",
      "Test Accuracy = 0.863\n"
     ]
    }
   ],
   "source": [
    "### Load the images and plot them here.\n",
    "### Feel free to use as many code cells as needed.\n",
    "\n",
    "test_accuracy = test(X_test_input, y_test)\n",
    "print(\"Test Accuracy = {:.3f}\".format(test_accuracy))"
   ]
  },
  {
   "cell_type": "code",
   "execution_count": 16,
   "metadata": {},
   "outputs": [
    {
     "name": "stdout",
     "output_type": "stream",
     "text": [
      "{0: 'Speed limit (20km/h)', 1: 'Speed limit (30km/h)', 2: 'Speed limit (50km/h)', 3: 'Speed limit (60km/h)', 4: 'Speed limit (70km/h)', 5: 'Speed limit (80km/h)', 6: 'End of speed limit (80km/h)', 7: 'Speed limit (100km/h)', 8: 'Speed limit (120km/h)', 9: 'No passing', 10: 'No passing for vehicles over 3.5 metric tons', 11: 'Right-of-way at the next intersection', 12: 'Priority road', 13: 'Yield', 14: 'Stop', 15: 'No vehicles', 16: 'Vehicles over 3.5 metric tons prohibited', 17: 'No entry', 18: 'General caution', 19: 'Dangerous curve to the left', 20: 'Dangerous curve to the right', 21: 'Double curve', 22: 'Bumpy road', 23: 'Slippery road', 24: 'Road narrows on the right', 25: 'Road work', 26: 'Traffic signals', 27: 'Pedestrians', 28: 'Children crossing', 29: 'Bicycles crossing', 30: 'Beware of ice/snow', 31: 'Wild animals crossing', 32: 'End of all speed and passing limits', 33: 'Turn right ahead', 34: 'Turn left ahead', 35: 'Ahead only', 36: 'Go straight or right', 37: 'Go straight or left', 38: 'Keep right', 39: 'Keep left', 40: 'Roundabout mandatory', 41: 'End of no passing', 42: 'End of no passing by vehicles over 3.5 metric tons'}\n"
     ]
    }
   ],
   "source": [
    "# build the label from number to name\n",
    "import csv\n",
    "label_int2name = {}\n",
    "with open('signnames.csv', 'r') as csvfile:\n",
    "    rows = csv.reader(csvfile)\n",
    "    next(rows)\n",
    "    for row in rows:\n",
    "        label_int = int(row[0])\n",
    "        label_name = row[1]\n",
    "        label_int2name[label_int] = label_name\n",
    "print(label_int2name)"
   ]
  },
  {
   "cell_type": "code",
   "execution_count": 17,
   "metadata": {},
   "outputs": [
    {
     "data": {
      "image/png": "[encoded data removed]",
      "text/plain": [
       "<matplotlib.figure.Figure at 0x265684b3550>"
      ]
     },
     "metadata": {},
     "output_type": "display_data"
    },
    {
     "name": "stdout",
     "output_type": "stream",
     "text": [
      "41\n",
      "End of no passing\n"
     ]
    },
    {
     "data": {
      "image/png": "[encoded data removed]",
      "text/plain": [
       "<matplotlib.figure.Figure at 0x26510f93f98>"
      ]
     },
     "metadata": {},
     "output_type": "display_data"
    },
    {
     "name": "stdout",
     "output_type": "stream",
     "text": [
      "31\n",
      "Wild animals crossing\n"
     ]
    },
    {
     "data": {
      "image/png": "[encoded data removed]",
      "text/plain": [
       "<matplotlib.figure.Figure at 0x2650a544898>"
      ]
     },
     "metadata": {},
     "output_type": "display_data"
    },
    {
     "name": "stdout",
     "output_type": "stream",
     "text": [
      "31\n",
      "Wild animals crossing\n"
     ]
    },
    {
     "data": {
      "image/png": "[encoded data removed]",
      "text/plain": [
       "<matplotlib.figure.Figure at 0x2650a2e4ba8>"
      ]
     },
     "metadata": {},
     "output_type": "display_data"
    },
    {
     "name": "stdout",
     "output_type": "stream",
     "text": [
      "36\n",
      "Go straight or right\n"
     ]
    }
   ],
   "source": [
    "# load the test images\n",
    "show_list = [0, 233, 667, 908]\n",
    "for img, label in zip(X_train[show_list], y_train[show_list]):\n",
    "    plt.imshow(img)\n",
    "    plt.show()\n",
    "    print(label)\n",
    "    print(label_int2name[label])"
   ]
  },
  {
   "cell_type": "code",
   "execution_count": null,
   "metadata": {
    "collapsed": true
   },
   "outputs": [],
   "source": []
  },
  {
   "cell_type": "markdown",
   "metadata": {},
   "source": [
    "### Predict the Sign Type for Each Image"
   ]
  },
  {
   "cell_type": "code",
   "execution_count": 18,
   "metadata": {},
   "outputs": [
    {
     "name": "stdout",
     "output_type": "stream",
     "text": [
      "totally 5 to be predicted\n",
      "restore previously saved model under ./lenet\n",
      "(array([16,  1, 38, 33, 11], dtype=int64),)\n"
     ]
    }
   ],
   "source": [
    "### Run the predictions here and use the model to output the prediction for each image.\n",
    "### Make sure to pre-process the images with the same pre-processing pipeline used earlier.\n",
    "### Feel free to use as many code cells as needed.\n",
    "\n",
    "# saver = tf.train.Saver()\n",
    "argmax_item = tf.argmax(logits, 1), \n",
    "\n",
    "def predict(X_data):\n",
    "    # similar like test, the the output is the predicted result list, not accuracy\n",
    "    num_examples = len(X_data)\n",
    "    print('totally '+str(num_examples) + ' to be predicted')\n",
    "    with tf.Session() as sess:\n",
    "        saver.restore(sess, tf.train.latest_checkpoint('.'))\n",
    "        print('restore previously saved model under ./lenet')\n",
    "        result = sess.run(argmax_item, feed_dict = {x: X_data, keep_prob : 1.0})\n",
    "        print(result)\n",
    "    return result\n",
    "\n",
    "predict_size = 5\n",
    "predicts_x_gray = X_test_input[:predict_size]\n",
    "predicts_x_color = X_test[:predict_size]\n",
    "reals_y = y_test[:predict_size]\n",
    "\n",
    "predicts_y = predict(predicts_x_gray)"
   ]
  },
  {
   "cell_type": "code",
   "execution_count": 19,
   "metadata": {},
   "outputs": [
    {
     "data": {
      "image/png": "[encoded data removed]",
      "text/plain": [
       "<matplotlib.figure.Figure at 0x26501147048>"
      ]
     },
     "metadata": {},
     "output_type": "display_data"
    },
    {
     "name": "stdout",
     "output_type": "stream",
     "text": [
      "real label is  16 , Vehicles over 3.5 metric tons prohibited\n",
      "predict label is  16 , Vehicles over 3.5 metric tons prohibited\n"
     ]
    },
    {
     "data": {
      "image/png": "[encoded data removed]",
      "text/plain": [
       "<matplotlib.figure.Figure at 0x26508ec3240>"
      ]
     },
     "metadata": {},
     "output_type": "display_data"
    },
    {
     "name": "stdout",
     "output_type": "stream",
     "text": [
      "real label is  1 , Speed limit (30km/h)\n",
      "predict label is  1 , Speed limit (30km/h)\n"
     ]
    },
    {
     "data": {
      "image/png": "[encoded data removed]",
      "text/plain": [
       "<matplotlib.figure.Figure at 0x2650899b390>"
      ]
     },
     "metadata": {},
     "output_type": "display_data"
    },
    {
     "name": "stdout",
     "output_type": "stream",
     "text": [
      "real label is  38 , Keep right\n",
      "predict label is  38 , Keep right\n"
     ]
    },
    {
     "data": {
      "image/png": "[encoded data removed]",
      "text/plain": [
       "<matplotlib.figure.Figure at 0x26522fc6748>"
      ]
     },
     "metadata": {},
     "output_type": "display_data"
    },
    {
     "name": "stdout",
     "output_type": "stream",
     "text": [
      "real label is  33 , Turn right ahead\n",
      "predict label is  33 , Turn right ahead\n"
     ]
    },
    {
     "data": {
      "image/png": "[encoded data removed]",
      "text/plain": [
       "<matplotlib.figure.Figure at 0x26508e9c390>"
      ]
     },
     "metadata": {},
     "output_type": "display_data"
    },
    {
     "name": "stdout",
     "output_type": "stream",
     "text": [
      "real label is  11 , Right-of-way at the next intersection\n",
      "predict label is  11 , Right-of-way at the next intersection\n"
     ]
    }
   ],
   "source": [
    "for img, predict_y, real_y in zip(predicts_x_color, predicts_y[0], reals_y):\n",
    "    plt.imshow(img)\n",
    "    plt.show()\n",
    "    print('real label is ', real_y, ',', label_int2name[real_y])\n",
    "    print('predict label is ', predict_y, ',', label_int2name[predict_y])\n",
    "    \n",
    "    "
   ]
  },
  {
   "cell_type": "markdown",
   "metadata": {},
   "source": [
    "### Analyze Performance"
   ]
  },
  {
   "cell_type": "code",
   "execution_count": 21,
   "metadata": {},
   "outputs": [
    {
     "name": "stdout",
     "output_type": "stream",
     "text": [
      "restore previously saved model under ./lenet\n",
      "testing begin...\n",
      "\n",
      "testing accuracy = 1.000\n",
      "\n",
      "accuracy is:  1.0\n"
     ]
    }
   ],
   "source": [
    "### Calculate the accuracy for these 5 new images. \n",
    "### For example, if the model predicted 1 out of 5 signs correctly, it's 20% accurate on these new images.\n",
    "test_accuracy = test(X_test_input[:predict_size], y_test[:predict_size])\n",
    "print('accuracy is: ', test_accuracy)"
   ]
  },
  {
   "cell_type": "markdown",
   "metadata": {},
   "source": [
    "### Output Top 5 Softmax Probabilities For Each Image Found on the Web"
   ]
  },
  {
   "cell_type": "markdown",
   "metadata": {},
   "source": [
    "For each of the new images, print out the model's softmax probabilities to show the **certainty** of the model's predictions (limit the output to the top 5 probabilities for each image). [`tf.nn.top_k`](https://www.tensorflow.org/versions/r0.12/api_docs/python/nn.html#top_k) could prove helpful here. \n",
    "\n",
    "The example below demonstrates how tf.nn.top_k can be used to find the top k predictions for each image.\n",
    "\n",
    "`tf.nn.top_k` will return the values and indices (class ids) of the top k predictions. So if k=3, for each sign, it'll return the 3 largest probabilities (out of a possible 43) and the correspoding class ids.\n",
    "\n",
    "Take this numpy array as an example. The values in the array represent predictions. The array contains softmax probabilities for five candidate images with six possible classes. `tf.nn.top_k` is used to choose the three classes with the highest probability:\n",
    "\n",
    "```\n",
    "# (5, 6) array\n",
    "a = np.array([[ 0.24879643,  0.07032244,  0.12641572,  0.34763842,  0.07893497,\n",
    "         0.12789202],\n",
    "       [ 0.28086119,  0.27569815,  0.08594638,  0.0178669 ,  0.18063401,\n",
    "         0.15899337],\n",
    "       [ 0.26076848,  0.23664738,  0.08020603,  0.07001922,  0.1134371 ,\n",
    "         0.23892179],\n",
    "       [ 0.11943333,  0.29198961,  0.02605103,  0.26234032,  0.1351348 ,\n",
    "         0.16505091],\n",
    "       [ 0.09561176,  0.34396535,  0.0643941 ,  0.16240774,  0.24206137,\n",
    "         0.09155967]])\n",
    "```\n",
    "\n",
    "Running it through `sess.run(tf.nn.top_k(tf.constant(a), k=3))` produces:\n",
    "\n",
    "```\n",
    "TopKV2(values=array([[ 0.34763842,  0.24879643,  0.12789202],\n",
    "       [ 0.28086119,  0.27569815,  0.18063401],\n",
    "       [ 0.26076848,  0.23892179,  0.23664738],\n",
    "       [ 0.29198961,  0.26234032,  0.16505091],\n",
    "       [ 0.34396535,  0.24206137,  0.16240774]]), indices=array([[3, 0, 5],\n",
    "       [0, 1, 4],\n",
    "       [0, 5, 1],\n",
    "       [1, 3, 5],\n",
    "       [1, 4, 3]], dtype=int32))\n",
    "```\n",
    "\n",
    "Looking just at the first row we get `[ 0.34763842,  0.24879643,  0.12789202]`, you can confirm these are the 3 largest probabilities in `a`. You'll also notice `[3, 0, 5]` are the corresponding indices."
   ]
  },
  {
   "cell_type": "code",
   "execution_count": 22,
   "metadata": {
    "collapsed": true
   },
   "outputs": [],
   "source": [
    "### Print out the top five softmax probabilities for the predictions on the German traffic sign images found on the web. \n",
    "### Feel free to use as many code cells as needed.\n",
    "\n",
    "# continuous the computer graph from logits, but for top_k accuracy\n",
    "# k_input = tf.placeholder(tf.int32)\n",
    "x_softmax = tf.nn.softmax(logits)\n",
    "\n",
    "# to get the top k result\n",
    "# topk_result = tf.nn.top_k(x_softmax, k = k_input)\n",
    "topk_result = tf.nn.top_k(x_softmax, k = 5)\n",
    "\n",
    "# below to calculate the top k accuracy \n",
    "labels_argmax = tf.argmax(one_hot_y, 1)\n",
    "topk_logical = tf.nn.in_top_k(x_softmax, labels_argmax, k = 5)\n",
    "topk_float = tf.cast(topk_logical, tf.float32)\n",
    "topk_accuracy = tf.reduce_mean(tf.cast(topk_logical, tf.float32))\n",
    "\n",
    "# cross_entropy_loss = tf.nn.softmax_cross_entropy_with_logits(labels = one_hot_y, logits=logits)\n",
    "# loss_operation = tf.reduce_mean(cross_entropy_loss)\n",
    "# optimizer = tf.train.AdamOptimizer(learning_rate = learning_rate)\n",
    "# training_operation = optimizer.minimize(loss_operation)\n",
    "\n",
    "# correct_prediction = tf.equal(tf.argmax(logits, 1), tf.argmax(one_hot_y, 1))\n",
    "# accuracy_operation = tf.reduce_mean(tf.cast(correct_prediction, tf.float32))\n",
    "\n"
   ]
  },
  {
   "cell_type": "code",
   "execution_count": 24,
   "metadata": {},
   "outputs": [
    {
     "name": "stdout",
     "output_type": "stream",
     "text": [
      "begin top k accuracy evaluation for test dataset\n",
      "TopKV2(values=array([[  9.99999166e-01,   5.88371051e-07,   9.60168833e-08,\n",
      "          8.18183210e-08,   5.32129931e-08],\n",
      "       [  9.63197351e-01,   2.69303489e-02,   9.85744596e-03,\n",
      "          9.92781042e-06,   2.44595185e-06],\n",
      "       [  1.00000000e+00,   4.53149844e-12,   2.45577484e-13,\n",
      "          1.63911940e-16,   8.77421048e-17],\n",
      "       [  9.99826252e-01,   1.05094514e-04,   6.83320031e-05,\n",
      "          2.52489627e-07,   5.82806656e-08],\n",
      "       [  9.52364266e-01,   4.71613444e-02,   2.81434157e-04,\n",
      "          7.21079414e-05,   6.47835186e-05],\n",
      "       [  1.00000000e+00,   2.76369316e-10,   5.72055511e-12,\n",
      "          8.22451306e-14,   3.84709829e-14],\n",
      "       [  9.95542586e-01,   4.44893306e-03,   8.51163531e-06,\n",
      "          3.38144481e-08,   5.26248511e-09],\n",
      "       [  9.99168873e-01,   6.23325584e-04,   1.92062711e-04,\n",
      "          9.11248299e-06,   3.65400911e-06],\n",
      "       [  9.97010589e-01,   2.07861327e-03,   8.41333938e-04,\n",
      "          5.40419642e-05,   1.39776048e-05],\n",
      "       [  9.99958873e-01,   3.01470063e-05,   1.01009682e-05,\n",
      "          9.23527352e-07,   7.95316790e-09],\n",
      "       [  4.46401000e-01,   3.52377027e-01,   1.32121593e-01,\n",
      "          3.52752395e-02,   1.00390371e-02],\n",
      "       [  9.99935269e-01,   5.79753250e-05,   5.68535734e-06,\n",
      "          8.87486522e-07,   2.40423532e-07],\n",
      "       [  6.39324605e-01,   1.51746675e-01,   6.07432425e-02,\n",
      "          3.23965438e-02,   3.01132984e-02],\n",
      "       [  5.94545126e-01,   2.32212856e-01,   1.34650305e-01,\n",
      "          2.53731366e-02,   8.50294903e-03],\n",
      "       [  6.48980260e-01,   2.90516764e-01,   4.27382961e-02,\n",
      "          1.10199396e-02,   2.18428299e-03],\n",
      "       [  9.99978304e-01,   1.10275887e-05,   1.00266107e-05,\n",
      "          3.34527101e-07,   2.80965452e-07],\n",
      "       [  8.69213581e-01,   1.05942190e-01,   9.82894003e-03,\n",
      "          6.76385965e-03,   3.41578131e-03],\n",
      "       [  6.76171243e-01,   3.18328142e-01,   3.34305828e-03,\n",
      "          1.95646170e-03,   8.03523144e-05],\n",
      "       [  6.18136168e-01,   3.26293439e-01,   2.73531731e-02,\n",
      "          1.86687596e-02,   4.03408986e-03],\n",
      "       [  9.99999523e-01,   4.08917430e-07,   4.43933459e-08,\n",
      "          9.79296821e-09,   2.11470108e-09],\n",
      "       [  9.59368050e-01,   3.66079882e-02,   2.37782579e-03,\n",
      "          1.27871812e-03,   2.90306110e-04],\n",
      "       [  9.99985218e-01,   1.24212002e-05,   2.33004926e-06,\n",
      "          3.27400649e-08,   1.59809641e-08],\n",
      "       [  9.95282114e-01,   2.75999098e-03,   8.77074839e-04,\n",
      "          3.60133272e-04,   2.83155998e-04],\n",
      "       [  9.04238224e-01,   4.41377982e-02,   1.76906772e-02,\n",
      "          1.21452883e-02,   1.08835762e-02],\n",
      "       [  9.29521620e-01,   7.04751015e-02,   3.30241778e-06,\n",
      "          1.38183420e-09,   4.65909360e-11],\n",
      "       [  9.65538383e-01,   3.44599672e-02,   7.22241452e-07,\n",
      "          6.75008266e-07,   2.23492165e-07],\n",
      "       [  9.99915123e-01,   5.26221156e-05,   3.20093168e-05,\n",
      "          1.36607468e-07,   7.89522545e-08],\n",
      "       [  9.99560535e-01,   2.87337025e-04,   5.11224171e-05,\n",
      "          2.88538249e-05,   1.52704215e-05],\n",
      "       [  9.99956250e-01,   2.25179974e-05,   1.52381117e-05,\n",
      "          5.84208101e-06,   1.30242299e-07],\n",
      "       [  9.84560370e-01,   1.36167342e-02,   7.08704581e-04,\n",
      "          5.92191413e-04,   4.57260845e-04],\n",
      "       [  8.99197400e-01,   1.00795597e-01,   7.04665854e-06,\n",
      "          2.47083552e-11,   1.26806204e-11],\n",
      "       [  9.99997377e-01,   2.58040791e-06,   5.32702735e-08,\n",
      "          1.60633640e-08,   1.91713090e-09],\n",
      "       [  1.00000000e+00,   3.45285791e-08,   1.71626979e-08,\n",
      "          1.67195875e-08,   1.56929958e-09],\n",
      "       [  5.44932961e-01,   1.11125454e-01,   8.75133872e-02,\n",
      "          7.36907423e-02,   7.06564859e-02],\n",
      "       [  1.00000000e+00,   1.59584990e-09,   2.49980565e-17,\n",
      "          4.05772028e-19,   3.70020997e-19],\n",
      "       [  9.99918818e-01,   8.12190410e-05,   2.66332201e-09,\n",
      "          5.74766734e-10,   4.19252376e-11],\n",
      "       [  9.97712255e-01,   1.26177794e-03,   9.42561775e-04,\n",
      "          4.76487076e-05,   1.88518025e-05],\n",
      "       [  9.41617846e-01,   3.07500567e-02,   1.70466490e-02,\n",
      "          5.33899991e-03,   2.10408610e-03],\n",
      "       [  9.99993086e-01,   3.09891357e-06,   1.92128596e-06,\n",
      "          1.47264439e-06,   2.52900719e-07],\n",
      "       [  5.71566820e-01,   2.38862693e-01,   7.90755227e-02,\n",
      "          5.18180467e-02,   2.23211348e-02],\n",
      "       [  8.96909118e-01,   9.62634012e-02,   3.27061210e-03,\n",
      "          1.22300116e-03,   1.10923988e-03],\n",
      "       [  8.32983077e-01,   1.22824475e-01,   2.53770333e-02,\n",
      "          8.41445569e-03,   4.80525615e-03],\n",
      "       [  9.98428464e-01,   1.56335963e-03,   8.10895108e-06,\n",
      "          6.27928429e-08,   9.09530229e-09],\n",
      "       [  8.61946046e-01,   6.97005466e-02,   1.68838575e-02,\n",
      "          1.16388565e-02,   1.16298702e-02],\n",
      "       [  2.83322603e-01,   2.59681702e-01,   1.62260696e-01,\n",
      "          1.43474340e-01,   1.09493934e-01],\n",
      "       [  9.62633848e-01,   2.22785696e-02,   7.90584274e-03,\n",
      "          5.65916719e-03,   9.73749207e-04],\n",
      "       [  9.98304367e-01,   1.61715585e-03,   7.49593019e-05,\n",
      "          2.08555343e-06,   5.04702996e-07],\n",
      "       [  9.99998093e-01,   1.66710117e-06,   1.44084382e-07,\n",
      "          9.38109750e-08,   2.36026505e-08],\n",
      "       [  1.48298338e-01,   1.39094442e-01,   1.30838320e-01,\n",
      "          1.18871637e-01,   9.86178666e-02],\n",
      "       [  3.79066825e-01,   1.25523388e-01,   1.12121381e-01,\n",
      "          1.08335391e-01,   8.30465257e-02],\n",
      "       [  2.59194613e-01,   2.22175613e-01,   1.68873370e-01,\n",
      "          6.99539110e-02,   6.13276176e-02],\n",
      "       [  4.87181187e-01,   4.70039874e-01,   3.02208178e-02,\n",
      "          1.07988501e-02,   1.06726110e-03],\n",
      "       [  9.98851776e-01,   1.12370925e-03,   1.11629224e-05,\n",
      "          7.27548513e-06,   3.51022504e-06],\n",
      "       [  1.00000000e+00,   4.66362380e-08,   3.70053738e-10,\n",
      "          6.72687296e-12,   1.79151702e-12],\n",
      "       [  9.99996781e-01,   1.84072996e-06,   1.37179427e-06,\n",
      "          6.68711531e-09,   2.18338177e-11],\n",
      "       [  9.51954305e-01,   4.62116674e-02,   1.10943278e-03,\n",
      "          6.59667014e-04,   5.89130650e-05],\n",
      "       [  9.73608255e-01,   1.49446484e-02,   1.04092732e-02,\n",
      "          9.40258149e-04,   5.92435390e-05],\n",
      "       [  6.13982677e-01,   2.52794355e-01,   1.10487640e-01,\n",
      "          7.10199215e-03,   6.83756033e-03],\n",
      "       [  9.98997629e-01,   7.65191391e-04,   2.20199159e-04,\n",
      "          8.06825756e-06,   6.78347169e-06],\n",
      "       [  9.99792159e-01,   1.30055181e-04,   6.59190700e-05,\n",
      "          5.25197629e-06,   3.37644838e-06],\n",
      "       [  9.99058783e-01,   5.11030899e-04,   2.02400566e-04,\n",
      "          9.12488395e-05,   6.61589365e-05],\n",
      "       [  9.90030766e-01,   5.84010407e-03,   3.85854719e-03,\n",
      "          1.21181307e-04,   7.36693692e-05],\n",
      "       [  9.85717535e-01,   1.09428382e-02,   2.36913096e-03,\n",
      "          7.93979620e-04,   1.73274369e-04],\n",
      "       [  9.54679549e-01,   2.14996561e-02,   1.23482691e-02,\n",
      "          3.61928926e-03,   2.51589785e-03],\n",
      "       [  7.82813966e-01,   1.92421585e-01,   1.80139430e-02,\n",
      "          4.75231232e-03,   1.17140007e-03],\n",
      "       [  1.00000000e+00,   1.30984912e-09,   9.78729098e-10,\n",
      "          4.81387041e-10,   2.23470600e-11],\n",
      "       [  8.85507405e-01,   7.91388378e-02,   3.37758884e-02,\n",
      "          4.85695549e-04,   3.78047989e-04],\n",
      "       [  9.97521341e-01,   1.96040119e-03,   2.60187342e-04,\n",
      "          2.17745095e-04,   3.88867156e-05],\n",
      "       [  6.05699241e-01,   2.62574226e-01,   1.07026421e-01,\n",
      "          2.22786590e-02,   2.31876550e-03],\n",
      "       [  6.11588538e-01,   2.38346726e-01,   1.42065912e-01,\n",
      "          1.56209362e-03,   1.54707022e-03],\n",
      "       [  5.84998667e-01,   4.13787037e-01,   8.51116434e-04,\n",
      "          2.61921028e-04,   4.68515100e-05],\n",
      "       [  9.97707963e-01,   5.99461084e-04,   5.58543135e-04,\n",
      "          4.38770046e-04,   4.10301436e-04],\n",
      "       [  4.92785692e-01,   4.23711747e-01,   1.82490926e-02,\n",
      "          1.75794996e-02,   1.21647706e-02],\n",
      "       [  5.93054116e-01,   3.84569615e-01,   5.46176173e-03,\n",
      "          5.39769745e-03,   3.27184657e-03],\n",
      "       [  9.87978935e-01,   6.77448418e-03,   5.24580991e-03,\n",
      "          7.70680458e-07,   4.08302753e-10],\n",
      "       [  8.51063251e-01,   2.95515247e-02,   2.54800357e-02,\n",
      "          1.88479386e-02,   1.25352619e-02],\n",
      "       [  9.70556617e-01,   2.02252027e-02,   9.21490695e-03,\n",
      "          2.32721391e-06,   1.08988741e-06],\n",
      "       [  9.99879599e-01,   6.54964460e-05,   5.44791219e-05,\n",
      "          2.00539461e-07,   8.46086792e-08],\n",
      "       [  4.86512840e-01,   3.29041332e-01,   6.42434582e-02,\n",
      "          4.31143530e-02,   2.58352235e-02],\n",
      "       [  8.29089999e-01,   1.11965425e-01,   4.26987670e-02,\n",
      "          3.03020305e-03,   2.44762260e-03],\n",
      "       [  9.75942433e-01,   1.58674773e-02,   6.64935960e-03,\n",
      "          1.50217570e-03,   3.03571705e-05],\n",
      "       [  9.97614741e-01,   1.12446514e-03,   6.42399653e-04,\n",
      "          4.75768291e-04,   8.13211154e-05],\n",
      "       [  9.98234630e-01,   7.36379181e-04,   3.25835368e-04,\n",
      "          1.85461977e-04,   1.51775123e-04],\n",
      "       [  6.13628447e-01,   2.58186281e-01,   9.90683734e-02,\n",
      "          1.49975782e-02,   5.27668465e-03],\n",
      "       [  9.99995589e-01,   3.86314878e-06,   2.48376210e-07,\n",
      "          2.39808315e-07,   1.47491797e-08],\n",
      "       [  8.58827710e-01,   6.25291467e-02,   5.30988313e-02,\n",
      "          1.00730537e-02,   6.02840167e-03],\n",
      "       [  9.76215839e-01,   2.37376932e-02,   4.64634468e-05,\n",
      "          3.85068901e-08,   2.67534990e-08],\n",
      "       [  3.52249116e-01,   2.20142365e-01,   1.66722193e-01,\n",
      "          7.09719732e-02,   6.39984459e-02],\n",
      "       [  8.20590615e-01,   1.36481121e-01,   1.22216288e-02,\n",
      "          6.49040891e-03,   6.33489713e-03],\n",
      "       [  9.99999881e-01,   9.33971194e-08,   4.94323587e-08,\n",
      "          1.72526663e-11,   4.12462816e-13],\n",
      "       [  9.83360052e-01,   1.56515893e-02,   4.34582733e-04,\n",
      "          2.89983582e-04,   8.31133875e-05],\n",
      "       [  9.99730885e-01,   2.12621759e-04,   5.64304646e-05,\n",
      "          6.38907070e-12,   3.45467280e-13],\n",
      "       [  1.00000000e+00,   1.96712762e-08,   5.09300424e-09,\n",
      "          6.60322694e-14,   3.57894087e-14],\n",
      "       [  9.99368727e-01,   3.51698574e-04,   1.95153829e-04,\n",
      "          5.29279641e-05,   2.03723557e-05],\n",
      "       [  9.99770582e-01,   2.17739012e-04,   9.32711373e-06,\n",
      "          1.34531899e-06,   1.06024959e-06],\n",
      "       [  6.32708013e-01,   3.45684469e-01,   7.98407197e-03,\n",
      "          5.07032126e-03,   3.34019936e-03],\n",
      "       [  6.59432530e-01,   3.36335897e-01,   1.77243492e-03,\n",
      "          8.14778614e-04,   6.31658768e-04],\n",
      "       [  9.92165804e-01,   3.91825614e-03,   2.51209270e-03,\n",
      "          7.84811564e-04,   3.92005924e-04],\n",
      "       [  9.99756157e-01,   1.15720512e-04,   7.57307062e-05,\n",
      "          1.76437807e-05,   1.65348229e-05],\n",
      "       [  9.89270926e-01,   7.95535091e-03,   9.17878584e-04,\n",
      "          7.60920171e-04,   7.08963722e-04]], dtype=float32), indices=array([[16,  9, 40, 41,  7],\n",
      "       [ 1,  2,  0,  5,  3],\n",
      "       [38, 34, 25, 36, 13],\n",
      "       [33, 14, 13, 35, 29],\n",
      "       [11, 30, 23, 12, 21],\n",
      "       [38, 34, 25, 36, 13],\n",
      "       [18, 26, 27, 25, 24],\n",
      "       [12, 40,  1, 32,  4],\n",
      "       [25, 24, 29, 22, 36],\n",
      "       [35,  3, 13,  9, 29],\n",
      "       [12, 18, 11, 27, 40],\n",
      "       [ 7,  8,  5,  2, 10],\n",
      "       [23, 20, 11, 21, 30],\n",
      "       [ 7,  5,  8,  2, 10],\n",
      "       [13, 36, 12, 15, 38],\n",
      "       [ 9, 19, 10, 20, 16],\n",
      "       [19, 23, 21, 31, 28],\n",
      "       [20, 23, 19, 28, 10],\n",
      "       [27, 18, 24, 11, 12],\n",
      "       [38, 34, 36, 13, 25],\n",
      "       [ 4,  8,  1,  2,  7],\n",
      "       [33, 35, 13, 15, 14],\n",
      "       [ 9, 19, 10, 16, 41],\n",
      "       [11, 12, 30, 10, 42],\n",
      "       [ 1,  2,  0,  4,  5],\n",
      "       [11, 30, 23, 21, 24],\n",
      "       [13, 15, 35,  3, 36],\n",
      "       [10,  5,  3, 16, 20],\n",
      "       [ 9, 19, 10, 23, 16],\n",
      "       [11, 30, 27, 12, 28],\n",
      "       [ 5,  3,  2, 10,  7],\n",
      "       [17, 14, 33, 37, 39],\n",
      "       [34, 38, 35, 13,  3],\n",
      "       [23, 31, 20, 21, 10],\n",
      "       [ 2,  1,  5,  4,  8],\n",
      "       [17, 14, 33, 37, 40],\n",
      "       [ 3,  5, 35,  9, 10],\n",
      "       [12, 13, 32, 38, 15],\n",
      "       [16, 40,  7,  9, 41],\n",
      "       [ 8,  4,  9,  5, 38],\n",
      "       [ 7,  8,  5,  2, 10],\n",
      "       [30, 11, 23, 20, 28],\n",
      "       [18, 26, 27, 25, 12],\n",
      "       [12, 40,  1, 32, 11],\n",
      "       [20, 25, 11, 23, 30],\n",
      "       [25, 24, 22, 29, 30],\n",
      "       [ 3, 35,  5,  9, 34],\n",
      "       [10, 23,  3,  9,  5],\n",
      "       [30, 20, 25, 18, 11],\n",
      "       [ 8,  4,  7, 40,  1],\n",
      "       [17, 26, 18, 37, 33],\n",
      "       [29, 25, 28, 13, 22],\n",
      "       [15,  4, 13,  1,  2],\n",
      "       [ 9, 19, 10, 23, 16],\n",
      "       [13, 15, 35,  3, 34],\n",
      "       [35,  3, 13, 34, 15],\n",
      "       [ 5,  2,  3,  7, 10],\n",
      "       [26, 18, 27, 37, 24],\n",
      "       [ 9, 19, 10, 20, 16],\n",
      "       [16,  9, 41, 40,  7],\n",
      "       [38, 34,  3, 13, 25],\n",
      "       [10,  7,  5, 19, 16],\n",
      "       [ 4,  8,  2,  1,  7],\n",
      "       [ 9, 10, 19, 23, 16],\n",
      "       [15,  4,  1,  2, 12],\n",
      "       [ 9, 19, 41, 10, 20],\n",
      "       [18, 26, 27, 24, 12],\n",
      "       [ 2,  1,  7,  5,  8],\n",
      "       [ 5,  2,  7,  8,  3],\n",
      "       [28, 30, 11, 12, 23],\n",
      "       [30, 11, 23, 28, 21],\n",
      "       [25, 20, 36, 29, 38],\n",
      "       [30, 11, 23, 21, 24],\n",
      "       [34, 35, 29,  3, 30],\n",
      "       [ 5,  2,  3,  7,  1],\n",
      "       [12, 11, 40, 32, 30],\n",
      "       [ 1,  2,  0,  8,  7],\n",
      "       [10,  5,  3, 23,  9],\n",
      "       [24, 25, 18, 27, 30],\n",
      "       [25, 29, 24, 33, 30],\n",
      "       [21, 23, 31, 19, 11],\n",
      "       [33, 13, 35, 14, 15],\n",
      "       [25, 29, 36, 20, 38],\n",
      "       [ 7,  5,  8,  2,  3],\n",
      "       [10,  5, 42,  7, 11],\n",
      "       [35,  9,  3, 34, 23],\n",
      "       [ 3,  5,  2, 38, 10],\n",
      "       [ 5,  7,  2,  8,  1],\n",
      "       [22, 25, 29, 18, 24],\n",
      "       [13, 15, 35,  3, 34],\n",
      "       [ 3,  5, 35, 10,  9],\n",
      "       [ 1,  2,  0,  7, 12],\n",
      "       [ 2,  5,  1,  7,  3],\n",
      "       [14, 13, 15, 36, 34],\n",
      "       [12, 40,  1, 32, 11],\n",
      "       [12, 32, 13,  1, 15],\n",
      "       [ 3,  5, 10,  9,  2],\n",
      "       [38, 34, 25, 36, 13],\n",
      "       [ 9, 19, 10, 16, 41],\n",
      "       [33, 35, 29, 14, 13]]))\n"
     ]
    }
   ],
   "source": [
    "# run top k for the test dataset, and only print the top k result for the first 3 samples\n",
    "with tf.Session() as sess:\n",
    "    saver.restore(sess, tf.train.latest_checkpoint('.'))\n",
    "    print('begin top k accuracy evaluation for test dataset')\n",
    "    feed = {x: X_test_input[:100], keep_prob: 1.0}\n",
    "#     feed = {x: X_test_input, keep_prob: 1.0}\n",
    "    topk_results = sess.run(topk_result, feed_dict= feed)\n",
    "print(topk_results)\n",
    "    \n",
    "    "
   ]
  },
  {
   "cell_type": "code",
   "execution_count": 45,
   "metadata": {},
   "outputs": [
    {
     "data": {
      "image/png": "[encoded data removed]",
      "text/plain": [
       "<matplotlib.figure.Figure at 0x26508ba55f8>"
      ]
     },
     "metadata": {},
     "output_type": "display_data"
    },
    {
     "name": "stdout",
     "output_type": "stream",
     "text": [
      "#34 test example:\n",
      "the actual sign is:  Speed limit (50km/h)\n",
      "the predicted sign is:\n",
      "1.0 Speed limit (50km/h)\n",
      "1.59585e-09 Speed limit (30km/h)\n",
      "2.49981e-17 Speed limit (80km/h)\n",
      "4.05772e-19 Speed limit (70km/h)\n",
      "3.70021e-19 Speed limit (120km/h)\n"
     ]
    },
    {
     "data": {
      "image/png": "[encoded data removed]",
      "text/plain": [
       "<matplotlib.figure.Figure at 0x265088e7048>"
      ]
     },
     "metadata": {},
     "output_type": "display_data"
    },
    {
     "name": "stdout",
     "output_type": "stream",
     "text": [
      "#45 test example:\n",
      "the actual sign is:  Road work\n",
      "the predicted sign is:\n",
      "0.962634 Road work\n",
      "0.0222786 Road narrows on the right\n",
      "0.00790584 Bumpy road\n",
      "0.00565917 Bicycles crossing\n",
      "0.000973749 Beware of ice/snow\n"
     ]
    },
    {
     "data": {
      "image/png": "[encoded data removed]",
      "text/plain": [
       "<matplotlib.figure.Figure at 0x26508db8240>"
      ]
     },
     "metadata": {},
     "output_type": "display_data"
    },
    {
     "name": "stdout",
     "output_type": "stream",
     "text": [
      "#56 test example:\n",
      "the actual sign is:  Speed limit (80km/h)\n",
      "the predicted sign is:\n",
      "0.973608 Speed limit (80km/h)\n",
      "0.0149446 Speed limit (50km/h)\n",
      "0.0104093 Speed limit (60km/h)\n",
      "0.000940258 Speed limit (100km/h)\n",
      "5.92435e-05 No passing for vehicles over 3.5 metric tons\n"
     ]
    },
    {
     "data": {
      "image/png": "[encoded data removed]",
      "text/plain": [
       "<matplotlib.figure.Figure at 0x26508e29198>"
      ]
     },
     "metadata": {},
     "output_type": "display_data"
    },
    {
     "name": "stdout",
     "output_type": "stream",
     "text": [
      "#78 test example:\n",
      "the actual sign is:  Road work\n",
      "the predicted sign is:\n",
      "0.486513 Road narrows on the right\n",
      "0.329041 Road work\n",
      "0.0642435 General caution\n",
      "0.0431144 Pedestrians\n",
      "0.0258352 Beware of ice/snow\n"
     ]
    },
    {
     "data": {
      "image/png": "[encoded data removed]",
      "text/plain": [
       "<matplotlib.figure.Figure at 0x2650a583a20>"
      ]
     },
     "metadata": {},
     "output_type": "display_data"
    },
    {
     "name": "stdout",
     "output_type": "stream",
     "text": [
      "#98 test example:\n",
      "the actual sign is:  No passing\n",
      "the predicted sign is:\n",
      "0.999756 No passing\n",
      "0.000115721 Dangerous curve to the left\n",
      "7.57307e-05 No passing for vehicles over 3.5 metric tons\n",
      "1.76438e-05 Vehicles over 3.5 metric tons prohibited\n",
      "1.65348e-05 End of no passing\n"
     ]
    }
   ],
   "source": [
    "# try to print the top k labels\n",
    "# select any one between 0 and 100 to check the top_k result\n",
    "topk_list = [34, 45, 56, 78, 98]\n",
    "topk_prob = topk_results[0][topk_list]\n",
    "topk_labl = topk_results[1][topk_list]\n",
    "# print(topk_prob)\n",
    "# print(topk_labl)\n",
    "\n",
    "for i, imgid in enumerate(topk_list):\n",
    "    img = X_test[imgid]\n",
    "    plt.imshow(img)\n",
    "    plt.show()\n",
    "    print('#' + str(imgid) + ' test example:')\n",
    "    print('the actual sign is: ', label_int2name[y_test[imgid]])\n",
    "    print('the predicted sign is:')\n",
    "    for j in range(5):\n",
    "        labl_j = topk_labl[i][j]\n",
    "        prob_j = topk_prob[i][j]\n",
    "        labl_name = label_int2name[labl_j]\n",
    "        print(prob_j, labl_name)"
   ]
  },
  {
   "cell_type": "code",
   "execution_count": 46,
   "metadata": {
    "collapsed": true
   },
   "outputs": [],
   "source": [
    "\n",
    "def evaluate_topk(sess, X_data, y_data):\n",
    "    num_examples = len(X_data)\n",
    "    sess = tf.get_default_session()\n",
    "    total_accuracy = 0.0\n",
    "    for offset in range(0, num_examples, batch_size):\n",
    "        batch_x, batch_y = X_data[offset:offset + batch_size], y_data[offset : offset+ batch_size]\n",
    "        feed = {x: batch_x, y:batch_y, keep_prob : 1.0}\n",
    "        accuracy = sess.run(topk_accuracy, feed_dict = feed)\n",
    "        total_accuracy += accuracy * len(batch_x)\n",
    "    return total_accuracy / num_examples\n"
   ]
  },
  {
   "cell_type": "code",
   "execution_count": 47,
   "metadata": {},
   "outputs": [
    {
     "name": "stdout",
     "output_type": "stream",
     "text": [
      "top 5 classification accuracy in the test data is: 0.965716547713\n"
     ]
    }
   ],
   "source": [
    "# run the top k accuracy prediction, for the first 100 images in the test dataset\n",
    "with tf.Session() as sess:\n",
    "    saver.restore(sess, tf.train.latest_checkpoint('.'))\n",
    "    accuracy = evaluate_topk(sess, X_test_input, y_test)\n",
    "print('top 5 classification accuracy in the test data is:', accuracy)"
   ]
  },
  {
   "cell_type": "markdown",
   "metadata": {},
   "source": [
    "### Project Writeup\n",
    "\n",
    "Once you have completed the code implementation, document your results in a project writeup using this [template](https://github.com/udacity/CarND-Traffic-Sign-Classifier-Project/blob/master/writeup_template.md) as a guide. The writeup can be in a markdown or pdf file. "
   ]
  },
  {
   "cell_type": "markdown",
   "metadata": {},
   "source": [
    "> **Note**: Once you have completed all of the code implementations and successfully answered each question above, you may finalize your work by exporting the iPython Notebook as an HTML document. You can do this by using the menu above and navigating to  \\n\",\n",
    "    \"**File -> Download as -> HTML (.html)**. Include the finished document along with this notebook as your submission."
   ]
  },
  {
   "cell_type": "markdown",
   "metadata": {},
   "source": [
    "---\n",
    "\n",
    "## Step 4 (Optional): Visualize the Neural Network's State with Test Images\n",
    "\n",
    " This Section is not required to complete but acts as an additional excersise for understaning the output of a neural network's weights. While neural networks can be a great learning device they are often referred to as a black box. We can understand what the weights of a neural network look like better by plotting their feature maps. After successfully training your neural network you can see what it's feature maps look like by plotting the output of the network's weight layers in response to a test stimuli image. From these plotted feature maps, it's possible to see what characteristics of an image the network finds interesting. For a sign, maybe the inner network feature maps react with high activation to the sign's boundary outline or to the contrast in the sign's painted symbol.\n",
    "\n",
    " Provided for you below is the function code that allows you to get the visualization output of any tensorflow weight layer you want. The inputs to the function should be a stimuli image, one used during training or a new one you provided, and then the tensorflow variable name that represents the layer's state during the training process, for instance if you wanted to see what the [LeNet lab's](https://classroom.udacity.com/nanodegrees/nd013/parts/fbf77062-5703-404e-b60c-95b78b2f3f9e/modules/6df7ae49-c61c-4bb2-a23e-6527e69209ec/lessons/601ae704-1035-4287-8b11-e2c2716217ad/concepts/d4aca031-508f-4e0b-b493-e7b706120f81) feature maps looked like for it's second convolutional layer you could enter conv2 as the tf_activation variable.\n",
    "\n",
    "For an example of what feature map outputs look like, check out NVIDIA's results in their paper [End-to-End Deep Learning for Self-Driving Cars](https://devblogs.nvidia.com/parallelforall/deep-learning-self-driving-cars/) in the section Visualization of internal CNN State. NVIDIA was able to show that their network's inner weights had high activations to road boundary lines by comparing feature maps from an image with a clear path to one without. Try experimenting with a similar test to show that your trained network's weights are looking for interesting features, whether it's looking at differences in feature maps from images with or without a sign, or even what feature maps look like in a trained network vs a completely untrained one on the same sign image.\n",
    "\n",
    "<figure>\n",
    " <img src=\"visualize_cnn.png\" width=\"380\" alt=\"Combined Image\" />\n",
    " <figcaption>\n",
    " <p></p> \n",
    " <p style=\"text-align: center;\"> Your output should look something like this (above)</p> \n",
    " </figcaption>\n",
    "</figure>\n",
    " <p></p> \n"
   ]
  },
  {
   "cell_type": "code",
   "execution_count": null,
   "metadata": {
    "collapsed": true
   },
   "outputs": [],
   "source": [
    "### Visualize your network's feature maps here.\n",
    "### Feel free to use as many code cells as needed.\n",
    "\n",
    "# image_input: the test image being fed into the network to produce the feature maps\n",
    "# tf_activation: should be a tf variable name used during your training procedure that represents the calculated state of a specific weight layer\n",
    "# activation_min/max: can be used to view the activation contrast in more detail, by default matplot sets min and max to the actual min and max values of the output\n",
    "# plt_num: used to plot out multiple different weight feature map sets on the same block, just extend the plt number for each new feature map entry\n",
    "\n",
    "def outputFeatureMap(image_input, tf_activation, activation_min=-1, activation_max=-1 ,plt_num=1):\n",
    "    # Here make sure to preprocess your image_input in a way your network expects\n",
    "    # with size, normalization, ect if needed\n",
    "    # image_input =\n",
    "    # Note: x should be the same name as your network's tensorflow data placeholder variable\n",
    "    # If you get an error tf_activation is not defined it may be having trouble accessing the variable from inside a function\n",
    "    activation = tf_activation.eval(session=sess,feed_dict={x : image_input})\n",
    "    featuremaps = activation.shape[3]\n",
    "    plt.figure(plt_num, figsize=(15,15))\n",
    "    for featuremap in range(featuremaps):\n",
    "        plt.subplot(6,8, featuremap+1) # sets the number of feature maps to show on each row and column\n",
    "        plt.title('FeatureMap ' + str(featuremap)) # displays the feature map number\n",
    "        if activation_min != -1 & activation_max != -1:\n",
    "            plt.imshow(activation[0,:,:, featuremap], interpolation=\"nearest\", vmin =activation_min, vmax=activation_max, cmap=\"gray\")\n",
    "        elif activation_max != -1:\n",
    "            plt.imshow(activation[0,:,:, featuremap], interpolation=\"nearest\", vmax=activation_max, cmap=\"gray\")\n",
    "        elif activation_min !=-1:\n",
    "            plt.imshow(activation[0,:,:, featuremap], interpolation=\"nearest\", vmin=activation_min, cmap=\"gray\")\n",
    "        else:\n",
    "            plt.imshow(activation[0,:,:, featuremap], interpolation=\"nearest\", cmap=\"gray\")"
   ]
  }
 ],
 "metadata": {
  "anaconda-cloud": {},
  "kernelspec": {
   "display_name": "Python 3",
   "language": "python",
   "name": "python3"
  },
  "language_info": {
   "codemirror_mode": {
    "name": "ipython",
    "version": 3
   },
   "file_extension": ".py",
   "mimetype": "text/x-python",
   "name": "python",
   "nbconvert_exporter": "python",
   "pygments_lexer": "ipython3",
   "version": "3.5.2"
  }
 },
 "nbformat": 4,
 "nbformat_minor": 1
}
