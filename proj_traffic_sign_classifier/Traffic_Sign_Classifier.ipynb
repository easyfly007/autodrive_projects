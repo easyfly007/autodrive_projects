{
 "cells": [
  {
   "cell_type": "markdown",
   "metadata": {},
   "source": [
    "# Self-Driving Car Engineer Nanodegree\n",
    "\n",
    "## Deep Learning\n",
    "\n",
    "## Project: Build a Traffic Sign Recognition Classifier\n",
    "\n",
    "In this notebook, a template is provided for you to implement your functionality in stages, which is required to successfully complete this project. If additional code is required that cannot be included in the notebook, be sure that the Python code is successfully imported and included in your submission if necessary. \n",
    "\n",
    "> **Note**: Once you have completed all of the code implementations, you need to finalize your work by exporting the iPython Notebook as an HTML document. Before exporting the notebook to html, all of the code cells need to have been run so that reviewers can see the final implementation and output. You can then export the notebook by using the menu above and navigating to  \\n\",\n",
    "    \"**File -> Download as -> HTML (.html)**. Include the finished document along with this notebook as your submission. \n",
    "\n",
    "In addition to implementing code, there is a writeup to complete. The writeup should be completed in a separate file, which can be either a markdown file or a pdf document. There is a [write up template](https://github.com/udacity/CarND-Traffic-Sign-Classifier-Project/blob/master/writeup_template.md) that can be used to guide the writing process. Completing the code template and writeup template will cover all of the [rubric points](https://review.udacity.com/#!/rubrics/481/view) for this project.\n",
    "\n",
    "The [rubric](https://review.udacity.com/#!/rubrics/481/view) contains \"Stand Out Suggestions\" for enhancing the project beyond the minimum requirements. The stand out suggestions are optional. If you decide to pursue the \"stand out suggestions\", you can include the code in this Ipython notebook and also discuss the results in the writeup file.\n",
    "\n",
    "\n",
    ">**Note:** Code and Markdown cells can be executed using the **Shift + Enter** keyboard shortcut. In addition, Markdown cells can be edited by typically double-clicking the cell to enter edit mode."
   ]
  },
  {
   "cell_type": "markdown",
   "metadata": {},
   "source": [
    "---\n",
    "## Step 0: Load The Data"
   ]
  },
  {
   "cell_type": "code",
   "execution_count": 1,
   "metadata": {
    "collapsed": true
   },
   "outputs": [],
   "source": [
    "# Load pickled data\n",
    "import pickle\n",
    "\n",
    "# TODO: Fill this in based on where you saved the training and testing data\n",
    "\n",
    "training_file = './train.p'\n",
    "validation_file= './valid.p'\n",
    "testing_file = './test.p'\n",
    "\n",
    "logs_path = './log'\n",
    "\n",
    "with open(training_file, mode='rb') as f:\n",
    "    train = pickle.load(f)\n",
    "with open(validation_file, mode='rb') as f:\n",
    "    valid = pickle.load(f)\n",
    "with open(testing_file, mode='rb') as f:\n",
    "    test = pickle.load(f)\n",
    "    \n",
    "X_train, y_train = train['features'], train['labels']\n",
    "X_valid, y_valid = valid['features'], valid['labels']\n",
    "X_test, y_test = test['features'], test['labels']"
   ]
  },
  {
   "cell_type": "markdown",
   "metadata": {},
   "source": [
    "---\n",
    "\n",
    "## Step 1: Dataset Summary & Exploration\n",
    "\n",
    "The pickled data is a dictionary with 4 key/value pairs:\n",
    "\n",
    "- `'features'` is a 4D array containing raw pixel data of the traffic sign images, (num examples, width, height, channels).\n",
    "- `'labels'` is a 1D array containing the label/class id of the traffic sign. The file `signnames.csv` contains id -> name mappings for each id.\n",
    "- `'sizes'` is a list containing tuples, (width, height) representing the original width and height the image.\n",
    "- `'coords'` is a list containing tuples, (x1, y1, x2, y2) representing coordinates of a bounding box around the sign in the image. **THESE COORDINATES ASSUME THE ORIGINAL IMAGE. THE PICKLED DATA CONTAINS RESIZED VERSIONS (32 by 32) OF THESE IMAGES**\n",
    "\n",
    "Complete the basic data summary below. Use python, numpy and/or pandas methods to calculate the data summary rather than hard coding the results. For example, the [pandas shape method](http://pandas.pydata.org/pandas-docs/stable/generated/pandas.DataFrame.shape.html) might be useful for calculating some of the summary results. "
   ]
  },
  {
   "cell_type": "markdown",
   "metadata": {},
   "source": [
    "### Provide a Basic Summary of the Data Set Using Python, Numpy and/or Pandas"
   ]
  },
  {
   "cell_type": "code",
   "execution_count": 2,
   "metadata": {},
   "outputs": [
    {
     "name": "stdout",
     "output_type": "stream",
     "text": [
      "Number of training examples = 34799\n",
      "Number of testing examples = 12630\n",
      "Image data shape = [32, 32, 3]\n",
      "Number of classes = 43\n"
     ]
    }
   ],
   "source": [
    "### Replace each question mark with the appropriate value. \n",
    "### Use python, pandas or numpy methods rather than hard coding the results\n",
    "\n",
    "# TODO: Number of training examples\n",
    "assert len(X_train) == len(y_train)\n",
    "n_train = len(y_train)\n",
    "# n_train = y_train.shape[0]\n",
    "\n",
    "# TODO: Number of validation examples\n",
    "assert len(X_valid) == len(y_valid)\n",
    "n_validation = len(y_valid)\n",
    "# n_validation = y_valid.shape[0]\n",
    "\n",
    "# TODO: Number of testing examples.\n",
    "assert len(X_test) == len(y_test)\n",
    "n_test = len(y_test)\n",
    "\n",
    "# TODO: What's the shape of an traffic sign image?\n",
    "\n",
    "image_shape = [32,32,3]  \n",
    "\n",
    "n_classes = 43\n",
    "\n",
    "print(\"Number of training examples =\", n_train)\n",
    "print(\"Number of testing examples =\", n_test)\n",
    "print(\"Image data shape =\", image_shape)\n",
    "print(\"Number of classes =\", n_classes)"
   ]
  },
  {
   "cell_type": "markdown",
   "metadata": {},
   "source": [
    "### Include an exploratory visualization of the dataset"
   ]
  },
  {
   "cell_type": "markdown",
   "metadata": {},
   "source": [
    "Visualize the German Traffic Signs Dataset using the pickled file(s). This is open ended, suggestions include: plotting traffic sign images, plotting the count of each sign, etc. \n",
    "\n",
    "The [Matplotlib](http://matplotlib.org/) [examples](http://matplotlib.org/examples/index.html) and [gallery](http://matplotlib.org/gallery.html) pages are a great resource for doing visualizations in Python.\n",
    "\n",
    "**NOTE:** It's recommended you start with something simple first. If you wish to do more, come back to it after you've completed the rest of the sections. It can be interesting to look at the distribution of classes in the training, validation and test set. Is the distribution the same? Are there more examples of some classes than others?"
   ]
  },
  {
   "cell_type": "code",
   "execution_count": 3,
   "metadata": {
    "scrolled": true
   },
   "outputs": [
    {
     "name": "stdout",
     "output_type": "stream",
     "text": [
      "31\n"
     ]
    },
    {
     "data": {
      "image/png": "[encoded data removed]",
      "text/plain": [
       "<matplotlib.figure.Figure at 0x1e22d508fd0>"
      ]
     },
     "metadata": {},
     "output_type": "display_data"
    },
    {
     "name": "stdout",
     "output_type": "stream",
     "text": [
      "41\n"
     ]
    },
    {
     "data": {
      "image/png": "[encoded data removed]",
      "text/plain": [
       "<matplotlib.figure.Figure at 0x1e22de40ba8>"
      ]
     },
     "metadata": {},
     "output_type": "display_data"
    }
   ],
   "source": [
    "### Data exploration visualization code goes here.\n",
    "### Feel free to use as many code cells as needed.\n",
    "import matplotlib.pyplot as plt\n",
    "# Visualizations will be shown in the notebook.\n",
    "%matplotlib inline\n",
    "i = 2\n",
    "plt.imshow(X_train[234])\n",
    "print(y_train[234])\n",
    "plt.show()\n",
    "plt.imshow(X_train[122])\n",
    "print(y_train[122])\n",
    "plt.show()"
   ]
  },
  {
   "cell_type": "code",
   "execution_count": 4,
   "metadata": {},
   "outputs": [
    {
     "data": {
      "text/plain": [
       "<matplotlib.text.Text at 0x1e22e18feb8>"
      ]
     },
     "execution_count": 4,
     "metadata": {},
     "output_type": "execute_result"
    },
    {
     "data": {
      "image/png": "[encoded data removed]",
      "text/plain": [
       "<matplotlib.figure.Figure at 0x1e22e36f4a8>"
      ]
     },
     "metadata": {},
     "output_type": "display_data"
    }
   ],
   "source": [
    "# to plot the distribution of the samples for train and valid and test\n",
    "n, bin, patches = plt.hist([y_train, y_valid], bins = 43)\n",
    "plt.xlabel('traffic sign types')\n",
    "plt.ylabel('sample count')\n",
    "\n"
   ]
  },
  {
   "cell_type": "markdown",
   "metadata": {},
   "source": [
    "----\n",
    "\n",
    "## Step 2: Design and Test a Model Architecture\n",
    "\n",
    "Design and implement a deep learning model that learns to recognize traffic signs. Train and test your model on the [German Traffic Sign Dataset](http://benchmark.ini.rub.de/?section=gtsrb&subsection=dataset).\n",
    "\n",
    "The LeNet-5 implementation shown in the [classroom](https://classroom.udacity.com/nanodegrees/nd013/parts/fbf77062-5703-404e-b60c-95b78b2f3f9e/modules/6df7ae49-c61c-4bb2-a23e-6527e69209ec/lessons/601ae704-1035-4287-8b11-e2c2716217ad/concepts/d4aca031-508f-4e0b-b493-e7b706120f81) at the end of the CNN lesson is a solid starting point. You'll have to change the number of classes and possibly the preprocessing, but aside from that it's plug and play! \n",
    "\n",
    "With the LeNet-5 solution from the lecture, you should expect a validation set accuracy of about 0.89. To meet specifications, the validation set accuracy will need to be at least 0.93. It is possible to get an even higher accuracy, but 0.93 is the minimum for a successful project submission. \n",
    "\n",
    "There are various aspects to consider when thinking about this problem:\n",
    "\n",
    "- Neural network architecture (is the network over or underfitting?)\n",
    "- Play around preprocessing techniques (normalization, rgb to grayscale, etc)\n",
    "- Number of examples per label (some have more than others).\n",
    "- Generate fake data.\n",
    "\n",
    "Here is an example of a [published baseline model on this problem](http://yann.lecun.com/exdb/publis/pdf/sermanet-ijcnn-11.pdf). It's not required to be familiar with the approach used in the paper but, it's good practice to try to read papers like these."
   ]
  },
  {
   "cell_type": "markdown",
   "metadata": {},
   "source": [
    "### Pre-process the Data Set (normalization, grayscale, etc.)"
   ]
  },
  {
   "cell_type": "markdown",
   "metadata": {},
   "source": [
    "Minimally, the image data should be normalized so that the data has mean zero and equal variance. For image data, `(pixel - 128)/ 128` is a quick way to approximately normalize the data and can be used in this project. \n",
    "\n",
    "Other pre-processing steps are optional. You can try different techniques to see if it improves performance. \n",
    "\n",
    "Use the code cell (or multiple code cells, if necessary) to implement the first step of your project."
   ]
  },
  {
   "cell_type": "code",
   "execution_count": 5,
   "metadata": {},
   "outputs": [
    {
     "data": {
      "image/png": "[encoded data removed]",
      "text/plain": [
       "<matplotlib.figure.Figure at 0x1e22c4b1ac8>"
      ]
     },
     "metadata": {},
     "output_type": "display_data"
    },
    {
     "name": "stdout",
     "output_type": "stream",
     "text": [
      "(34799, 32, 32, 1)\n",
      "(34799, 32, 32, 3)\n"
     ]
    },
    {
     "data": {
      "image/png": "[encoded data removed]",
      "text/plain": [
       "<matplotlib.figure.Figure at 0x1e22e529898>"
      ]
     },
     "metadata": {},
     "output_type": "display_data"
    }
   ],
   "source": [
    "### Preprocess the data here. It is required to normalize the data. Other preprocessing steps could include \n",
    "### converting to grayscale, etc.\n",
    "### Feel free to use as many code cells as needed.\n",
    "import numpy as np\n",
    "\n",
    "X_train_input = np.mean(X_train, axis = 3)/255\n",
    "plt.imshow(X_train_input[234], cmap = 'gray')\n",
    "plt.show()\n",
    "\n",
    "X_train_input = np.expand_dims(X_train_input, axis = 4)\n",
    "\n",
    "X_valid_input = np.mean(X_valid, axis = 3)/255\n",
    "X_valid_input = np.expand_dims(X_valid_input, axis = 4)\n",
    "\n",
    "X_test_input  = np.mean(X_test, axis = 3) / 255\n",
    "X_test_input  = np.expand_dims(X_test_input, axis = 4)\n",
    "\n",
    "print(X_train_input.shape)\n",
    "print(X_train.shape)\n",
    "\n",
    "plt.imshow(X_train[234])\n",
    "plt.show()\n",
    "\n",
    "# now X_train_input, X_valid_input, X_test_input as the input for the network,"
   ]
  },
  {
   "cell_type": "markdown",
   "metadata": {},
   "source": [
    "### Model Architecture"
   ]
  },
  {
   "cell_type": "code",
   "execution_count": 6,
   "metadata": {
    "collapsed": true
   },
   "outputs": [],
   "source": [
    "### Define your architecture here.\n",
    "### Feel free to use as many code cells as needed.\n",
    "\n",
    "import tensorflow as tf\n",
    "# copied from previous LeNet solution, but changed the final output class number to 43 instead of 10\n",
    "def buildNet(x, keep_rate):\n",
    "    mu = 0\n",
    "    sigma = 0.01\n",
    "    \n",
    "    conv1_W = tf.Variable(tf.truncated_normal(shape=(3, 3, 1, 16), mean = mu, stddev = sigma))\n",
    "    conv1_b = tf.Variable(tf.zeros(16))\n",
    "    conv1   = tf.nn.conv2d(x, conv1_W, strides=[1, 1, 1, 1], padding='VALID') + conv1_b\n",
    "    conv1 = tf.nn.relu(conv1)\n",
    "#     conv1 = tf.nn.max_pool(conv1, ksize=[1, 2, 2, 1], strides=[1, 2, 2, 1], padding='VALID')\n",
    "    # after conv1, shape from (32, 32, 1) => (30, 30, 16) \n",
    "    \n",
    "    conv2_W = tf.Variable(tf.truncated_normal(shape=(3, 3, 16, 32), mean = mu, stddev = sigma))\n",
    "    conv2_b = tf.Variable(tf.zeros(32))\n",
    "    conv2   = tf.nn.conv2d(conv1, conv2_W, strides=[1, 1, 1, 1], padding='VALID') + conv2_b\n",
    "    conv2 = tf.nn.relu(conv2)\n",
    "    conv2 = tf.nn.max_pool(conv2, ksize=[1, 2, 2, 1], strides=[1, 2, 2, 1], padding='VALID')\n",
    "    # after conv2, shape from (30, 30, 16) => (28, 28, 32) => (14, 14, 32) \n",
    "    \n",
    "    conv3_W = tf.Variable(tf.truncated_normal(shape=(3, 3, 32, 64), mean = mu, stddev = sigma))\n",
    "    conv3_b = tf.Variable(tf.zeros(64))\n",
    "    conv3   = tf.nn.conv2d(conv2, conv3_W, strides=[1, 1, 1, 1], padding='VALID') + conv3_b\n",
    "    conv3 = tf.nn.relu(conv3)\n",
    "    conv3 = tf.nn.max_pool(conv3, ksize=[1, 2, 2, 1], strides=[1, 2, 2, 1], padding='VALID')\n",
    "    # after conv3, shape from (14, 14, 64) => (12, 12, 64) => (6, 6, 64)\n",
    "\n",
    "        \n",
    "    conv4_W = tf.Variable(tf.truncated_normal(shape=(3, 3, 64, 64), mean = mu, stddev = sigma))\n",
    "    conv4_b = tf.Variable(tf.zeros(64))\n",
    "    conv4   = tf.nn.conv2d(conv3, conv4_W, strides=[1, 1, 1, 1], padding='VALID') + conv4_b\n",
    "    conv4 = tf.nn.relu(conv4)\n",
    "    conv4 = tf.nn.max_pool(conv4, ksize=[1, 2, 2, 1], strides=[1, 2, 2, 1], padding='VALID')\n",
    "    # after conv4, shape from (6, 6, 64) => (4, 4, 64) => (2, 2, 64)\n",
    "    \n",
    "    \n",
    "    # flattern, shape from (2, 2, 64) =>(256)\n",
    "    fc0   = tf.contrib.layers.flatten(conv4)\n",
    "    \n",
    "    # fc1 layer, shape from (400) => (120)\n",
    "    fc1_W = tf.Variable(tf.truncated_normal(shape=(256, 128), mean = mu, stddev = sigma))\n",
    "    fc1_b = tf.Variable(tf.zeros(128))\n",
    "    fc1   = tf.matmul(fc0, fc1_W) + fc1_b   \n",
    "    fc1   = tf.nn.relu(fc1)\n",
    "    fc1   = tf.nn.dropout(fc1, keep_rate)\n",
    "\n",
    "    # fc2 layer, shape from (128) => (64)\n",
    "    fc2_W  = tf.Variable(tf.truncated_normal(shape=(128, 64), mean = mu, stddev = sigma))\n",
    "    fc2_b  = tf.Variable(tf.zeros(64))\n",
    "    fc2    = tf.matmul(fc1, fc2_W) + fc2_b\n",
    "    fc2    = tf.nn.relu(fc2)\n",
    "    fc2    = tf.nn.dropout(fc2, keep_rate)\n",
    "\n",
    "    # fc3 layer, shape from (84) => n_classes, e.g., 43\n",
    "    fc3_W  = tf.Variable(tf.truncated_normal(shape=(64, n_classes), mean = mu, stddev = sigma))\n",
    "    fc3_b  = tf.Variable(tf.zeros(n_classes))\n",
    "    logits = tf.matmul(fc2, fc3_W) + fc3_b\n",
    "    \n",
    "    return logits\n",
    "\n",
    "# place holdere as input\n",
    "# with tf.name_scope('input'):\n",
    "x = tf.placeholder(dtype = tf.float32, shape = (None, 32, 32, 1))\n",
    "y = tf.placeholder(dtype = tf.int32, shape = (None))\n",
    "one_hot_y = tf.one_hot(y, n_classes)\n",
    "keep_prob = tf.placeholder(dtype = tf.float32)\n"
   ]
  },
  {
   "cell_type": "markdown",
   "metadata": {},
   "source": [
    "### Train, Validate and Test the Model"
   ]
  },
  {
   "cell_type": "markdown",
   "metadata": {},
   "source": [
    "A validation set can be used to assess how well the model is performing. A low accuracy on the training and validation\n",
    "sets imply underfitting. A high accuracy on the training set but low accuracy on the validation set implies overfitting."
   ]
  },
  {
   "cell_type": "code",
   "execution_count": 7,
   "metadata": {
    "collapsed": true
   },
   "outputs": [],
   "source": [
    "### Train your model here.\n",
    "### Calculate and report the accuracy on the training and validation set.\n",
    "### Once a final model architecture is selected, \n",
    "### the accuracy on the test set should be calculated and reported as well.\n",
    "### Feel free to use as many code cells as needed.\n",
    "\n",
    "from sklearn.utils import shuffle\n",
    "\n",
    "#super parameters setting\n",
    "batch_size = 128\n",
    "learning_rate = 0.001\n",
    "\n",
    "logits = buildNet(x, keep_prob)\n",
    "with tf.name_scope('summaries'):\n",
    "    cross_entropy_loss = tf.reduce_mean(tf.nn.softmax_cross_entropy_with_logits(labels = one_hot_y, logits=logits))\n",
    "    optimizer = tf.train.AdamOptimizer(learning_rate = learning_rate)\n",
    "    training_operation = optimizer.minimize(cross_entropy_loss)\n",
    "\n",
    "    correct_prediction = tf.equal(tf.argmax(logits, 1), tf.argmax(one_hot_y, 1))\n",
    "    accuracy_operation = tf.reduce_mean(tf.cast(correct_prediction, tf.float32))\n",
    "#     tf.summary.scalar(\"loss\", cross_entropy_loss)\n",
    "#     tf.summary.scalar(\"accuracy\", accuracy_operation)\n",
    "\n",
    "saver = tf.train.Saver()\n",
    "\n",
    "merged_summary_op = tf.summary.merge_all()\n",
    "def evaluate(sess, X_data, y_data):\n",
    "    num_examples = len(X_data)\n",
    "    total_accuracy = 0.0\n",
    "    for offset in range(0, num_examples, batch_size):\n",
    "        batch_x, batch_y = X_data[offset:offset + batch_size], y_data[offset:offset+batch_size]\n",
    "        # no use of dropout if evaluation the model\n",
    "        feed = {x: batch_x, y: batch_y, keep_prob: 1.0}\n",
    "        accuracy = sess.run(accuracy_operation, feed_dict=feed)\n",
    "        total_accuracy += (accuracy * len(batch_x))\n",
    "    return total_accuracy / num_examples\n",
    "\n",
    "def train(X_data, y_data, epoch = 2, learning_rate = 0.001):\n",
    "    assert len(X_data) == len(y_data)\n",
    "    with tf.Session() as sess:\n",
    "        sess.run(tf.global_variables_initializer())\n",
    "        train_writer = tf.summary.FileWriter(logs_path+ '/train/', graph=tf.get_default_graph())        \n",
    "        print(\"Training begin...\")\n",
    "        print()\n",
    "        num_examples = len(X_data)\n",
    "        for i in range(epoch):\n",
    "            print('epoch ' + str(i+1) + '/'+ str(epoch) +' begin...')\n",
    "            X_data, y_data = shuffle(X_data, y_data)\n",
    "            epoch_train_accuracy = 0.0\n",
    "            for offset in range(0, num_examples, batch_size):\n",
    "                end = offset + batch_size\n",
    "                batch_x, batch_y = X_data[offset:end], y_data[offset:end]\n",
    "                feed = { x: batch_x, y: batch_y, keep_prob: 0.75 }\n",
    "                _, batch_train_accuracy = sess.run(\n",
    "                    [training_operation, accuracy_operation], feed_dict= feed)\n",
    "#                 train_writer.add_summary(summary)\n",
    "                epoch_train_accuracy += batch_train_accuracy * len(batch_x)\n",
    "                \n",
    "            epoch_train_accuracy /= num_examples\n",
    "            print('train accuracy ={:.3f}'.format(epoch_train_accuracy))\n",
    "            validation_accuracy = evaluate(sess, X_valid_input, y_valid)\n",
    "            print(\"Validation Accuracy = {:.3f}\".format(validation_accuracy))\n",
    "            print()\n",
    "        saver.save(sess, './lenet')\n",
    "        train_writer.close()\n",
    "        print(\"Model saved\")\n",
    "\n",
    "        \n",
    "def test(X_data, y_data):\n",
    "    assert len(X_data) == len(y_data)\n",
    "    num_examples = len(X_data)\n",
    "    with tf.Session() as sess:\n",
    "        saver.restore(sess, tf.train.latest_checkpoint('.'))\n",
    "        print('restore previously saved model under ./lenet')\n",
    "        print(\"testing begin...\")\n",
    "        print()\n",
    "        test_accuracy = evaluate(sess, X_data, y_data)\n",
    "        print(\"testing accuracy = {:.3f}\".format(test_accuracy))\n",
    "        print()\n",
    "    return test_accuracy"
   ]
  },
  {
   "cell_type": "code",
   "execution_count": null,
   "metadata": {
    "collapsed": true
   },
   "outputs": [],
   "source": []
  },
  {
   "cell_type": "code",
   "execution_count": 8,
   "metadata": {},
   "outputs": [
    {
     "name": "stdout",
     "output_type": "stream",
     "text": [
      "Training begin...\n",
      "\n",
      "epoch 1/30 begin...\n",
      "train accuracy =0.055\n",
      "Validation Accuracy = 0.054\n",
      "\n",
      "epoch 2/30 begin...\n",
      "train accuracy =0.057\n",
      "Validation Accuracy = 0.054\n",
      "\n",
      "epoch 3/30 begin...\n",
      "train accuracy =0.055\n",
      "Validation Accuracy = 0.054\n",
      "\n",
      "epoch 4/30 begin...\n",
      "train accuracy =0.059\n",
      "Validation Accuracy = 0.054\n",
      "\n",
      "epoch 5/30 begin...\n",
      "train accuracy =0.058\n",
      "Validation Accuracy = 0.055\n",
      "\n",
      "epoch 6/30 begin...\n",
      "train accuracy =0.184\n",
      "Validation Accuracy = 0.320\n",
      "\n",
      "epoch 7/30 begin...\n",
      "train accuracy =0.402\n",
      "Validation Accuracy = 0.553\n",
      "\n",
      "epoch 8/30 begin...\n",
      "train accuracy =0.598\n",
      "Validation Accuracy = 0.700\n",
      "\n",
      "epoch 9/30 begin...\n",
      "train accuracy =0.713\n",
      "Validation Accuracy = 0.783\n",
      "\n",
      "epoch 10/30 begin...\n",
      "train accuracy =0.788\n",
      "Validation Accuracy = 0.814\n",
      "\n",
      "epoch 11/30 begin...\n",
      "train accuracy =0.824\n",
      "Validation Accuracy = 0.825\n",
      "\n",
      "epoch 12/30 begin...\n",
      "train accuracy =0.854\n",
      "Validation Accuracy = 0.863\n",
      "\n",
      "epoch 13/30 begin...\n",
      "train accuracy =0.876\n",
      "Validation Accuracy = 0.854\n",
      "\n",
      "epoch 14/30 begin...\n",
      "train accuracy =0.891\n",
      "Validation Accuracy = 0.868\n",
      "\n",
      "epoch 15/30 begin...\n",
      "train accuracy =0.903\n",
      "Validation Accuracy = 0.873\n",
      "\n",
      "epoch 16/30 begin...\n",
      "train accuracy =0.913\n",
      "Validation Accuracy = 0.898\n",
      "\n",
      "epoch 17/30 begin...\n",
      "train accuracy =0.919\n",
      "Validation Accuracy = 0.906\n",
      "\n",
      "epoch 18/30 begin...\n",
      "train accuracy =0.931\n",
      "Validation Accuracy = 0.898\n",
      "\n",
      "epoch 19/30 begin...\n",
      "train accuracy =0.936\n",
      "Validation Accuracy = 0.918\n",
      "\n",
      "epoch 20/30 begin...\n",
      "train accuracy =0.943\n",
      "Validation Accuracy = 0.917\n",
      "\n",
      "epoch 21/30 begin...\n",
      "train accuracy =0.947\n",
      "Validation Accuracy = 0.927\n",
      "\n",
      "epoch 22/30 begin...\n",
      "train accuracy =0.950\n",
      "Validation Accuracy = 0.926\n",
      "\n",
      "epoch 23/30 begin...\n",
      "train accuracy =0.957\n",
      "Validation Accuracy = 0.929\n",
      "\n",
      "epoch 24/30 begin...\n",
      "train accuracy =0.957\n",
      "Validation Accuracy = 0.928\n",
      "\n",
      "epoch 25/30 begin...\n",
      "train accuracy =0.958\n",
      "Validation Accuracy = 0.932\n",
      "\n",
      "epoch 26/30 begin...\n",
      "train accuracy =0.965\n",
      "Validation Accuracy = 0.935\n",
      "\n",
      "epoch 27/30 begin...\n",
      "train accuracy =0.965\n",
      "Validation Accuracy = 0.944\n",
      "\n",
      "epoch 28/30 begin...\n",
      "train accuracy =0.967\n",
      "Validation Accuracy = 0.933\n",
      "\n",
      "epoch 29/30 begin...\n",
      "train accuracy =0.969\n",
      "Validation Accuracy = 0.926\n",
      "\n",
      "epoch 30/30 begin...\n",
      "train accuracy =0.971\n",
      "Validation Accuracy = 0.945\n",
      "\n",
      "Model saved\n"
     ]
    }
   ],
   "source": [
    "# do training\n",
    "train(X_train_input, y_train, epoch = 30) "
   ]
  },
  {
   "cell_type": "markdown",
   "metadata": {},
   "source": [
    "---\n",
    "\n",
    "## Step 3: Test a Model on New Images\n",
    "\n",
    "To give yourself more insight into how your model is working, download at least five pictures of German traffic signs from the web and use your model to predict the traffic sign type.\n",
    "\n",
    "You may find `signnames.csv` useful as it contains mappings from the class id (integer) to the actual sign name."
   ]
  },
  {
   "cell_type": "markdown",
   "metadata": {},
   "source": [
    "### Load and Output the Images"
   ]
  },
  {
   "cell_type": "code",
   "execution_count": 8,
   "metadata": {
    "scrolled": false
   },
   "outputs": [
    {
     "name": "stdout",
     "output_type": "stream",
     "text": [
      "restore previously saved model under ./lenet\n",
      "testing begin...\n",
      "\n",
      "testing accuracy = 0.927\n",
      "\n",
      "Test Accuracy = 0.927\n"
     ]
    }
   ],
   "source": [
    "### Load the images and plot them here.\n",
    "### Feel free to use as many code cells as needed.\n",
    "\n",
    "test_accuracy = test(X_test_input, y_test)\n",
    "print(\"Test Accuracy = {:.3f}\".format(test_accuracy))"
   ]
  },
  {
   "cell_type": "code",
   "execution_count": 9,
   "metadata": {
    "scrolled": true
   },
   "outputs": [
    {
     "name": "stdout",
     "output_type": "stream",
     "text": [
      "0 Speed limit (20km/h)\n",
      "1 Speed limit (30km/h)\n",
      "2 Speed limit (50km/h)\n",
      "3 Speed limit (60km/h)\n",
      "4 Speed limit (70km/h)\n",
      "5 Speed limit (80km/h)\n",
      "6 End of speed limit (80km/h)\n",
      "7 Speed limit (100km/h)\n",
      "8 Speed limit (120km/h)\n",
      "9 No passing\n",
      "10 No passing for vehicles over 3.5 metric tons\n",
      "11 Right-of-way at the next intersection\n",
      "12 Priority road\n",
      "13 Yield\n",
      "14 Stop\n",
      "15 No vehicles\n",
      "16 Vehicles over 3.5 metric tons prohibited\n",
      "17 No entry\n",
      "18 General caution\n",
      "19 Dangerous curve to the left\n",
      "20 Dangerous curve to the right\n",
      "21 Double curve\n",
      "22 Bumpy road\n",
      "23 Slippery road\n",
      "24 Road narrows on the right\n",
      "25 Road work\n",
      "26 Traffic signals\n",
      "27 Pedestrians\n",
      "28 Children crossing\n",
      "29 Bicycles crossing\n",
      "30 Beware of ice/snow\n",
      "31 Wild animals crossing\n",
      "32 End of all speed and passing limits\n",
      "33 Turn right ahead\n",
      "34 Turn left ahead\n",
      "35 Ahead only\n",
      "36 Go straight or right\n",
      "37 Go straight or left\n",
      "38 Keep right\n",
      "39 Keep left\n",
      "40 Roundabout mandatory\n",
      "41 End of no passing\n",
      "42 End of no passing by vehicles over 3.5 metric tons\n"
     ]
    }
   ],
   "source": [
    "# build the label from number to name\n",
    "import csv\n",
    "label_int2name = {}\n",
    "with open('signnames.csv', 'r') as csvfile:\n",
    "    rows = csv.reader(csvfile)\n",
    "    next(rows)\n",
    "    for row in rows:\n",
    "        label_int = int(row[0])\n",
    "        label_name = row[1]\n",
    "        label_int2name[label_int] = label_name\n",
    "for idx in label_int2name:\n",
    "    print(idx, label_int2name[idx])"
   ]
  },
  {
   "cell_type": "markdown",
   "metadata": {},
   "source": [
    "to get the images I found from the web site"
   ]
  },
  {
   "cell_type": "code",
   "execution_count": 12,
   "metadata": {},
   "outputs": [
    {
     "name": "stdout",
     "output_type": "stream",
     "text": [
      "total  7 images from web search loaded\n"
     ]
    }
   ],
   "source": [
    "import cv2\n",
    "import os\n",
    "import numpy as np\n",
    "\n",
    "myimgs_gray = []\n",
    "myimgs_color = []\n",
    "dirname = 'mysamples'\n",
    "for filename in os.listdir(dirname):\n",
    "    if '.jpg' in filename:\n",
    "        myimg = cv2.imread(os.path.join(dirname, filename))\n",
    "        myimg = cv2.resize(myimg, (32, 32))\n",
    "        myimgs_color.append(myimg)\n",
    "        myimg = cv2.cvtColor(myimg, cv2.COLOR_BGR2GRAY)\n",
    "        myimgs_gray.append(myimg)\n",
    "\n",
    "print('total ', len(myimgs_gray), 'images from web search loaded')"
   ]
  },
  {
   "cell_type": "code",
   "execution_count": 13,
   "metadata": {},
   "outputs": [
    {
     "name": "stdout",
     "output_type": "stream",
     "text": [
      "(32, 32)\n",
      "(32, 32, 3)\n",
      "7\n"
     ]
    }
   ],
   "source": [
    "print(myimgs_gray[0].shape)\n",
    "print(myimgs_color[0].shape)\n",
    "print(len(myimgs_gray))\n"
   ]
  },
  {
   "cell_type": "markdown",
   "metadata": {},
   "source": [
    "need to expand the dimention for the gray scale images to (None, 32, 32, 1)"
   ]
  },
  {
   "cell_type": "code",
   "execution_count": 14,
   "metadata": {
    "collapsed": true
   },
   "outputs": [],
   "source": [
    "myimgs_input =np.expand_dims(myimgs_gray, axis = 3)"
   ]
  },
  {
   "cell_type": "code",
   "execution_count": 15,
   "metadata": {
    "scrolled": true
   },
   "outputs": [
    {
     "name": "stdout",
     "output_type": "stream",
     "text": [
      "7\n",
      "(32, 32, 1)\n"
     ]
    }
   ],
   "source": [
    "print(len(myimgs_input))\n",
    "print(myimgs_input[0].shape)"
   ]
  },
  {
   "cell_type": "code",
   "execution_count": 16,
   "metadata": {},
   "outputs": [
    {
     "name": "stdout",
     "output_type": "stream",
     "text": [
      "3\n"
     ]
    },
    {
     "data": {
      "image/png": "[encoded data removed]",
      "text/plain": [
       "<matplotlib.figure.Figure at 0x1e22f456f28>"
      ]
     },
     "metadata": {},
     "output_type": "display_data"
    }
   ],
   "source": [
    "# randomly check one my test image\n",
    "from numpy import random\n",
    "\n",
    "myimgidx = random.randint(0, len(myimgs_gray))\n",
    "print(myimgidx)\n",
    "img = myimgs_gray[myimgidx]\n",
    "plt.imshow(img, cmap = 'gray')\n",
    "plt.show()"
   ]
  },
  {
   "cell_type": "code",
   "execution_count": null,
   "metadata": {
    "collapsed": true
   },
   "outputs": [],
   "source": []
  },
  {
   "cell_type": "markdown",
   "metadata": {},
   "source": [
    "### Predict the Sign Type for Each Image"
   ]
  },
  {
   "cell_type": "code",
   "execution_count": 17,
   "metadata": {},
   "outputs": [
    {
     "name": "stdout",
     "output_type": "stream",
     "text": [
      "totally 7 to be predicted\n",
      "restore previously saved model under ./lenet\n",
      "(array([34, 25, 13, 22, 16, 14, 11], dtype=int64),)\n"
     ]
    }
   ],
   "source": [
    "### Run the predictions here and use the model to output the prediction for each image.\n",
    "### Make sure to pre-process the images with the same pre-processing pipeline used earlier.\n",
    "### Feel free to use as many code cells as needed.\n",
    "\n",
    "# saver = tf.train.Saver()\n",
    "argmax_item = tf.argmax(logits, 1), \n",
    "\n",
    "def predict(X_data):\n",
    "    # similar like test, the the output is the predicted result list, not accuracy\n",
    "    num_examples = len(X_data)\n",
    "    print('totally '+str(num_examples) + ' to be predicted')\n",
    "    with tf.Session() as sess:\n",
    "        saver.restore(sess, tf.train.latest_checkpoint('.'))\n",
    "        print('restore previously saved model under ./lenet')\n",
    "        result = sess.run(argmax_item, feed_dict = {x: X_data, keep_prob : 1.0})\n",
    "        print(result)\n",
    "    return result\n",
    "\n",
    "# predict_size = 5\n",
    "# predicts_x_gray = X_test_input[:predict_size]\n",
    "# predicts_x_color = X_test[:predict_size]\n",
    "# reals_y = y_test[:predict_size]\n",
    "\n",
    "# predicts_y = predict(predicts_x_gray)\n",
    "predicts_y = predict(myimgs_input)"
   ]
  },
  {
   "cell_type": "markdown",
   "metadata": {},
   "source": [
    "manually do label for my web searched images"
   ]
  },
  {
   "cell_type": "code",
   "execution_count": 18,
   "metadata": {
    "scrolled": false
   },
   "outputs": [
    {
     "name": "stdout",
     "output_type": "stream",
     "text": [
      "0 Speed limit (20km/h)\n",
      "1 Speed limit (30km/h)\n",
      "2 Speed limit (50km/h)\n",
      "3 Speed limit (60km/h)\n",
      "4 Speed limit (70km/h)\n",
      "5 Speed limit (80km/h)\n",
      "6 End of speed limit (80km/h)\n",
      "7 Speed limit (100km/h)\n",
      "8 Speed limit (120km/h)\n",
      "9 No passing\n",
      "10 No passing for vehicles over 3.5 metric tons\n",
      "11 Right-of-way at the next intersection\n",
      "12 Priority road\n",
      "13 Yield\n",
      "14 Stop\n",
      "15 No vehicles\n",
      "16 Vehicles over 3.5 metric tons prohibited\n",
      "17 No entry\n",
      "18 General caution\n",
      "19 Dangerous curve to the left\n",
      "20 Dangerous curve to the right\n",
      "21 Double curve\n",
      "22 Bumpy road\n",
      "23 Slippery road\n",
      "24 Road narrows on the right\n",
      "25 Road work\n",
      "26 Traffic signals\n",
      "27 Pedestrians\n",
      "28 Children crossing\n",
      "29 Bicycles crossing\n",
      "30 Beware of ice/snow\n",
      "31 Wild animals crossing\n",
      "32 End of all speed and passing limits\n",
      "33 Turn right ahead\n",
      "34 Turn left ahead\n",
      "35 Ahead only\n",
      "36 Go straight or right\n",
      "37 Go straight or left\n",
      "38 Keep right\n",
      "39 Keep left\n",
      "40 Roundabout mandatory\n",
      "41 End of no passing\n",
      "42 End of no passing by vehicles over 3.5 metric tons\n"
     ]
    }
   ],
   "source": [
    "# we will check to see how does each label images type look like\n",
    "# I compare my images and mark labels into file mylabels.txt\n",
    "labels_imgs = {}\n",
    "\n",
    "processed = 0\n",
    "for img, label in zip(X_train, y_train):\n",
    "    if label not in labels_imgs:\n",
    "        labels_imgs[label] = []\n",
    "    if len(labels_imgs[label]) < 3:\n",
    "        labels_imgs[label].append(img)\n",
    "        if len(labels_imgs[label]) ==3:\n",
    "            processed += 1\n",
    "    if processed == 43:\n",
    "        break\n",
    "        \n",
    "for label in labels_imgs:\n",
    "    imgs = labels_imgs[label]\n",
    "#     print(label, label_int2name[label])\n",
    "    for img in imgs:\n",
    "        pass\n",
    "#         plt.imshow(img)\n",
    "#         plt.show()"
   ]
  },
  {
   "cell_type": "code",
   "execution_count": 20,
   "metadata": {},
   "outputs": [
    {
     "name": "stdout",
     "output_type": "stream",
     "text": [
      "the true labels are: \n",
      "[ 1 28 13 18 15 14 31]\n",
      "the predicted labels are: \n",
      "(array([34, 25, 13, 22, 16, 14, 11], dtype=int64),)\n"
     ]
    }
   ],
   "source": [
    "myimgs_y = np.array([0,0,0,0,0,0,0])\n",
    "with open(os.path.join('mysamples', 'mylabels.txt')) as f:\n",
    "    lines = f.readlines()\n",
    "    for idx, line in enumerate(lines):\n",
    "        label = int(line.split(',')[0])\n",
    "        myimgs_y[idx] = label\n",
    "\n",
    "print('the true labels are: ')\n",
    "print(myimgs_y)\n",
    "print('the predicted labels are: ')\n",
    "print(predicts_y)\n"
   ]
  },
  {
   "cell_type": "code",
   "execution_count": 21,
   "metadata": {
    "scrolled": false
   },
   "outputs": [
    {
     "data": {
      "image/png": "[encoded data removed]",
      "text/plain": [
       "<matplotlib.figure.Figure at 0x1e2409501d0>"
      ]
     },
     "metadata": {},
     "output_type": "display_data"
    },
    {
     "name": "stdout",
     "output_type": "stream",
     "text": [
      "forthe above img, predict label is  34 , Turn left ahead\n"
     ]
    },
    {
     "data": {
      "image/png": "[encoded data removed]",
      "text/plain": [
       "<matplotlib.figure.Figure at 0x1e22e54d4a8>"
      ]
     },
     "metadata": {},
     "output_type": "display_data"
    },
    {
     "name": "stdout",
     "output_type": "stream",
     "text": [
      "forthe above img, predict label is  25 , Road work\n"
     ]
    },
    {
     "data": {
      "image/png": "[encoded data removed]",
      "text/plain": [
       "<matplotlib.figure.Figure at 0x1e2409d0748>"
      ]
     },
     "metadata": {},
     "output_type": "display_data"
    },
    {
     "name": "stdout",
     "output_type": "stream",
     "text": [
      "forthe above img, predict label is  13 , Yield\n"
     ]
    },
    {
     "data": {
      "image/png": "[encoded data removed]",
      "text/plain": [
       "<matplotlib.figure.Figure at 0x1e240a728d0>"
      ]
     },
     "metadata": {},
     "output_type": "display_data"
    },
    {
     "name": "stdout",
     "output_type": "stream",
     "text": [
      "forthe above img, predict label is  22 , Bumpy road\n"
     ]
    },
    {
     "data": {
      "image/png": "[encoded data removed]",
      "text/plain": [
       "<matplotlib.figure.Figure at 0x1e2409413c8>"
      ]
     },
     "metadata": {},
     "output_type": "display_data"
    },
    {
     "name": "stdout",
     "output_type": "stream",
     "text": [
      "forthe above img, predict label is  16 , Vehicles over 3.5 metric tons prohibited\n"
     ]
    },
    {
     "data": {
      "image/png": "[encoded data removed]",
      "text/plain": [
       "<matplotlib.figure.Figure at 0x1e240b7f6d8>"
      ]
     },
     "metadata": {},
     "output_type": "display_data"
    },
    {
     "name": "stdout",
     "output_type": "stream",
     "text": [
      "forthe above img, predict label is  14 , Stop\n"
     ]
    },
    {
     "data": {
      "image/png": "[encoded data removed]",
      "text/plain": [
       "<matplotlib.figure.Figure at 0x1e240be8e10>"
      ]
     },
     "metadata": {},
     "output_type": "display_data"
    },
    {
     "name": "stdout",
     "output_type": "stream",
     "text": [
      "forthe above img, predict label is  11 , Right-of-way at the next intersection\n"
     ]
    }
   ],
   "source": [
    "\n",
    "for img, predict_y in zip(myimgs_color, predicts_y[0]):\n",
    "    plt.imshow(cv2.cvtColor(img, cv2.COLOR_BGR2RGB))\n",
    "    plt.show()\n",
    "#     print('real label is ', real_y, ',', label_int2name[real_y])\n",
    "    print('forthe above img, predict label is ', predict_y, ',', label_int2name[predict_y])\n",
    "    \n",
    "    "
   ]
  },
  {
   "cell_type": "code",
   "execution_count": null,
   "metadata": {
    "collapsed": true
   },
   "outputs": [],
   "source": []
  },
  {
   "cell_type": "markdown",
   "metadata": {},
   "source": [
    "### Analyze Performance"
   ]
  },
  {
   "cell_type": "code",
   "execution_count": 22,
   "metadata": {},
   "outputs": [
    {
     "name": "stdout",
     "output_type": "stream",
     "text": [
      "restore previously saved model under ./lenet\n",
      "testing begin...\n",
      "\n",
      "testing accuracy = 0.286\n",
      "\n",
      "accuracy is:  0.285714298487\n"
     ]
    }
   ],
   "source": [
    "### Calculate the accuracy for these 5 new images. \n",
    "### For example, if the model predicted 1 out of 5 signs correctly, it's 20% accurate on these new images.\n",
    "test_accuracy = test(myimgs_input, myimgs_y)\n",
    "print('accuracy is: ', test_accuracy)"
   ]
  },
  {
   "cell_type": "code",
   "execution_count": null,
   "metadata": {
    "collapsed": true
   },
   "outputs": [],
   "source": []
  },
  {
   "cell_type": "markdown",
   "metadata": {},
   "source": [
    "### Output Top 5 Softmax Probabilities For Each Image Found on the Web"
   ]
  },
  {
   "cell_type": "markdown",
   "metadata": {},
   "source": [
    "For each of the new images, print out the model's softmax probabilities to show the **certainty** of the model's predictions (limit the output to the top 5 probabilities for each image). [`tf.nn.top_k`](https://www.tensorflow.org/versions/r0.12/api_docs/python/nn.html#top_k) could prove helpful here. \n",
    "\n",
    "The example below demonstrates how tf.nn.top_k can be used to find the top k predictions for each image.\n",
    "\n",
    "`tf.nn.top_k` will return the values and indices (class ids) of the top k predictions. So if k=3, for each sign, it'll return the 3 largest probabilities (out of a possible 43) and the correspoding class ids.\n",
    "\n",
    "Take this numpy array as an example. The values in the array represent predictions. The array contains softmax probabilities for five candidate images with six possible classes. `tf.nn.top_k` is used to choose the three classes with the highest probability:\n",
    "\n",
    "```\n",
    "# (5, 6) array\n",
    "a = np.array([[ 0.24879643,  0.07032244,  0.12641572,  0.34763842,  0.07893497,\n",
    "         0.12789202],\n",
    "       [ 0.28086119,  0.27569815,  0.08594638,  0.0178669 ,  0.18063401,\n",
    "         0.15899337],\n",
    "       [ 0.26076848,  0.23664738,  0.08020603,  0.07001922,  0.1134371 ,\n",
    "         0.23892179],\n",
    "       [ 0.11943333,  0.29198961,  0.02605103,  0.26234032,  0.1351348 ,\n",
    "         0.16505091],\n",
    "       [ 0.09561176,  0.34396535,  0.0643941 ,  0.16240774,  0.24206137,\n",
    "         0.09155967]])\n",
    "```\n",
    "\n",
    "Running it through `sess.run(tf.nn.top_k(tf.constant(a), k=3))` produces:\n",
    "\n",
    "```\n",
    "TopKV2(values=array([[ 0.34763842,  0.24879643,  0.12789202],\n",
    "       [ 0.28086119,  0.27569815,  0.18063401],\n",
    "       [ 0.26076848,  0.23892179,  0.23664738],\n",
    "       [ 0.29198961,  0.26234032,  0.16505091],\n",
    "       [ 0.34396535,  0.24206137,  0.16240774]]), indices=array([[3, 0, 5],\n",
    "       [0, 1, 4],\n",
    "       [0, 5, 1],\n",
    "       [1, 3, 5],\n",
    "       [1, 4, 3]], dtype=int32))\n",
    "```\n",
    "\n",
    "Looking just at the first row we get `[ 0.34763842,  0.24879643,  0.12789202]`, you can confirm these are the 3 largest probabilities in `a`. You'll also notice `[3, 0, 5]` are the corresponding indices."
   ]
  },
  {
   "cell_type": "code",
   "execution_count": 23,
   "metadata": {
    "collapsed": true
   },
   "outputs": [],
   "source": [
    "### Print out the top five softmax probabilities for the predictions on the German traffic sign images found on the web. \n",
    "### Feel free to use as many code cells as needed.\n",
    "\n",
    "# continuous the computer graph from logits, but for top_k accuracy\n",
    "# k_input = tf.placeholder(tf.int32)\n",
    "x_softmax = tf.nn.softmax(logits)\n",
    "\n",
    "# to get the top k result\n",
    "# topk_result = tf.nn.top_k(x_softmax, k = k_input)\n",
    "topk_result = tf.nn.top_k(x_softmax, k = 5)\n",
    "\n",
    "# below to calculate the top k accuracy \n",
    "labels_argmax = tf.argmax(one_hot_y, 1)\n",
    "topk_logical = tf.nn.in_top_k(x_softmax, labels_argmax, k = 5)\n",
    "topk_float = tf.cast(topk_logical, tf.float32)\n",
    "topk_accuracy = tf.reduce_mean(tf.cast(topk_logical, tf.float32))\n",
    "\n",
    "# cross_entropy_loss = tf.nn.softmax_cross_entropy_with_logits(labels = one_hot_y, logits=logits)\n",
    "# loss_operation = tf.reduce_mean(cross_entropy_loss)\n",
    "# optimizer = tf.train.AdamOptimizer(learning_rate = learning_rate)\n",
    "# training_operation = optimizer.minimize(loss_operation)\n",
    "\n",
    "# correct_prediction = tf.equal(tf.argmax(logits, 1), tf.argmax(one_hot_y, 1))\n",
    "# accuracy_operation = tf.reduce_mean(tf.cast(correct_prediction, tf.float32))\n",
    "\n"
   ]
  },
  {
   "cell_type": "code",
   "execution_count": 24,
   "metadata": {},
   "outputs": [
    {
     "name": "stdout",
     "output_type": "stream",
     "text": [
      "begin top k accuracy evaluation for test dataset\n"
     ]
    }
   ],
   "source": [
    "# run top k for the test dataset, and only print the top k result for the first 3 samples\n",
    "with tf.Session() as sess:\n",
    "    saver.restore(sess, tf.train.latest_checkpoint('.'))\n",
    "    print('begin top k accuracy evaluation for test dataset')\n",
    "    feed = {x: myimgs_input, keep_prob: 1.0}\n",
    "    topk_results = sess.run(topk_result, feed_dict= feed)"
   ]
  },
  {
   "cell_type": "code",
   "execution_count": 40,
   "metadata": {},
   "outputs": [
    {
     "name": "stdout",
     "output_type": "stream",
     "text": [
      "the true labels are: \n",
      "[ 1 28 13 18 15 14 31]\n",
      "the predicted labels are: \n",
      "(array([34, 25, 13, 22, 16, 14, 11], dtype=int64),)\n",
      "\n",
      "\n",
      "\n",
      "[[  1.00000000e+00   0.00000000e+00   0.00000000e+00   0.00000000e+00\n",
      "    0.00000000e+00]\n",
      " [  1.00000000e+00   4.80948838e-38   0.00000000e+00   0.00000000e+00\n",
      "    0.00000000e+00]\n",
      " [  1.00000000e+00   0.00000000e+00   0.00000000e+00   0.00000000e+00\n",
      "    0.00000000e+00]\n",
      " [  1.00000000e+00   0.00000000e+00   0.00000000e+00   0.00000000e+00\n",
      "    0.00000000e+00]\n",
      " [  1.00000000e+00   0.00000000e+00   0.00000000e+00   0.00000000e+00\n",
      "    0.00000000e+00]\n",
      " [  1.00000000e+00   0.00000000e+00   0.00000000e+00   0.00000000e+00\n",
      "    0.00000000e+00]\n",
      " [  1.00000000e+00   0.00000000e+00   0.00000000e+00   0.00000000e+00\n",
      "    0.00000000e+00]]\n",
      "[[34  0  1  2  3]\n",
      " [25 12  0  1  2]\n",
      " [13  0  1  2  3]\n",
      " [22  0  1  2  3]\n",
      " [16  0  1  2  3]\n",
      " [14  0  1  2  3]\n",
      " [11  0  1  2  3]]\n",
      "\n",
      "\n",
      "\n",
      "\n"
     ]
    },
    {
     "data": {
      "image/png": "[encoded data removed]",
      "text/plain": [
       "<matplotlib.figure.Figure at 0x1e240a32710>"
      ]
     },
     "metadata": {},
     "output_type": "display_data"
    },
    {
     "name": "stdout",
     "output_type": "stream",
     "text": [
      "#0 test example:\n",
      "the actual sign is:  1 Speed limit (30km/h)\n",
      "the predicted sign is:\n",
      "1.0 Turn left ahead\n",
      "0.0 Speed limit (20km/h)\n",
      "0.0 Speed limit (30km/h)\n",
      "0.0 Speed limit (50km/h)\n",
      "0.0 Speed limit (60km/h)\n",
      "\n",
      "\n",
      "\n",
      "\n"
     ]
    },
    {
     "data": {
      "image/png": "[encoded data removed]",
      "text/plain": [
       "<matplotlib.figure.Figure at 0x1e24092e160>"
      ]
     },
     "metadata": {},
     "output_type": "display_data"
    },
    {
     "name": "stdout",
     "output_type": "stream",
     "text": [
      "#1 test example:\n",
      "the actual sign is:  28 Children crossing\n",
      "the predicted sign is:\n",
      "1.0 Road work\n",
      "4.80949e-38 Priority road\n",
      "0.0 Speed limit (20km/h)\n",
      "0.0 Speed limit (30km/h)\n",
      "0.0 Speed limit (50km/h)\n",
      "\n",
      "\n",
      "\n",
      "\n"
     ]
    },
    {
     "data": {
      "image/png": "[encoded data removed]",
      "text/plain": [
       "<matplotlib.figure.Figure at 0x1e240d16358>"
      ]
     },
     "metadata": {},
     "output_type": "display_data"
    },
    {
     "name": "stdout",
     "output_type": "stream",
     "text": [
      "#2 test example:\n",
      "the actual sign is:  13 Yield\n",
      "the predicted sign is:\n",
      "1.0 Yield\n",
      "0.0 Speed limit (20km/h)\n",
      "0.0 Speed limit (30km/h)\n",
      "0.0 Speed limit (50km/h)\n",
      "0.0 Speed limit (60km/h)\n",
      "\n",
      "\n",
      "\n",
      "\n"
     ]
    },
    {
     "data": {
      "image/png": "[encoded data removed]",
      "text/plain": [
       "<matplotlib.figure.Figure at 0x1e240aba668>"
      ]
     },
     "metadata": {},
     "output_type": "display_data"
    },
    {
     "name": "stdout",
     "output_type": "stream",
     "text": [
      "#3 test example:\n",
      "the actual sign is:  18 General caution\n",
      "the predicted sign is:\n",
      "1.0 Bumpy road\n",
      "0.0 Speed limit (20km/h)\n",
      "0.0 Speed limit (30km/h)\n",
      "0.0 Speed limit (50km/h)\n",
      "0.0 Speed limit (60km/h)\n",
      "\n",
      "\n",
      "\n",
      "\n"
     ]
    },
    {
     "data": {
      "image/png": "[encoded data removed]",
      "text/plain": [
       "<matplotlib.figure.Figure at 0x1e240b6a2e8>"
      ]
     },
     "metadata": {},
     "output_type": "display_data"
    },
    {
     "name": "stdout",
     "output_type": "stream",
     "text": [
      "#4 test example:\n",
      "the actual sign is:  15 No vehicles\n",
      "the predicted sign is:\n",
      "1.0 Vehicles over 3.5 metric tons prohibited\n",
      "0.0 Speed limit (20km/h)\n",
      "0.0 Speed limit (30km/h)\n",
      "0.0 Speed limit (50km/h)\n",
      "0.0 Speed limit (60km/h)\n",
      "\n",
      "\n",
      "\n",
      "\n"
     ]
    },
    {
     "data": {
      "image/png": "[encoded data removed]",
      "text/plain": [
       "<matplotlib.figure.Figure at 0x1e240b622b0>"
      ]
     },
     "metadata": {},
     "output_type": "display_data"
    },
    {
     "name": "stdout",
     "output_type": "stream",
     "text": [
      "#5 test example:\n",
      "the actual sign is:  14 Stop\n",
      "the predicted sign is:\n",
      "1.0 Stop\n",
      "0.0 Speed limit (20km/h)\n",
      "0.0 Speed limit (30km/h)\n",
      "0.0 Speed limit (50km/h)\n",
      "0.0 Speed limit (60km/h)\n",
      "\n",
      "\n",
      "\n",
      "\n"
     ]
    },
    {
     "data": {
      "image/png": "[encoded data removed]",
      "text/plain": [
       "<matplotlib.figure.Figure at 0x1e240cec9b0>"
      ]
     },
     "metadata": {},
     "output_type": "display_data"
    },
    {
     "name": "stdout",
     "output_type": "stream",
     "text": [
      "#6 test example:\n",
      "the actual sign is:  31 Wild animals crossing\n",
      "the predicted sign is:\n",
      "1.0 Right-of-way at the next intersection\n",
      "0.0 Speed limit (20km/h)\n",
      "0.0 Speed limit (30km/h)\n",
      "0.0 Speed limit (50km/h)\n",
      "0.0 Speed limit (60km/h)\n"
     ]
    }
   ],
   "source": [
    "# try to print the top k labels\n",
    "# select any one between 0 and 100 to check the top_k result\n",
    "# topk_list = [3, 5, 6, 1]\n",
    "\n",
    "print('the true labels are: ')\n",
    "print(myimgs_y)\n",
    "print('the predicted labels are: ')\n",
    "print(predicts_y)\n",
    "print('\\n\\n')\n",
    "\n",
    "topk_prob = topk_results[0]\n",
    "topk_labl = topk_results[1]\n",
    "print(topk_prob)\n",
    "print(topk_labl)\n",
    "\n",
    "\n",
    "for imgid  in range(len(topk_labl)):\n",
    "    print('\\n\\n\\n')\n",
    "    img = myimgs_color[imgid]\n",
    "    plt.imshow(cv2.cvtColor(img, cv2.COLOR_BGR2RGB))\n",
    "    plt.show()\n",
    "    print('#' + str(imgid) + ' test example:')\n",
    "    print('the actual sign is: ', myimgs_y[imgid], label_int2name[myimgs_y[imgid]])\n",
    "    print('the predicted sign is:')\n",
    "    for j in range(5):\n",
    "        labl_j = topk_labl[imgid][j]\n",
    "        prob_j = topk_prob[imgid][j]\n",
    "        labl_name = label_int2name[labl_j]\n",
    "        print(prob_j, labl_name) "
   ]
  },
  {
   "cell_type": "code",
   "execution_count": 37,
   "metadata": {
    "collapsed": true
   },
   "outputs": [],
   "source": [
    "\n",
    "def evaluate_topk(sess, X_data, y_data):\n",
    "    num_examples = len(X_data)\n",
    "    sess = tf.get_default_session()\n",
    "    total_accuracy = 0.0\n",
    "    for offset in range(0, num_examples, batch_size):\n",
    "        batch_x, batch_y = X_data[offset:offset + batch_size], y_data[offset : offset+ batch_size]\n",
    "        feed = {x: batch_x, y:batch_y, keep_prob : 1.0}\n",
    "        accuracy = sess.run(topk_accuracy, feed_dict = feed)\n",
    "        total_accuracy += accuracy * len(batch_x)\n",
    "    return total_accuracy / num_examples\n"
   ]
  },
  {
   "cell_type": "code",
   "execution_count": 38,
   "metadata": {},
   "outputs": [
    {
     "name": "stdout",
     "output_type": "stream",
     "text": [
      "top 5 classification accuracy in the test data is: 1.0\n"
     ]
    }
   ],
   "source": [
    "# run the top k accuracy prediction, for the test dataset\n",
    "# we expect a much higher accuracy\n",
    "with tf.Session() as sess:\n",
    "    saver.restore(sess, tf.train.latest_checkpoint('.'))\n",
    "    accuracy = evaluate_topk(sess, myimgs_input, myimgs_y)\n",
    "print('top 5 classification accuracy in the test data is:', accuracy)"
   ]
  },
  {
   "cell_type": "markdown",
   "metadata": {},
   "source": [
    "### Project Writeup\n",
    "\n",
    "Once you have completed the code implementation, document your results in a project writeup using this [template](https://github.com/udacity/CarND-Traffic-Sign-Classifier-Project/blob/master/writeup_template.md) as a guide. The writeup can be in a markdown or pdf file. "
   ]
  },
  {
   "cell_type": "markdown",
   "metadata": {},
   "source": [
    "> **Note**: Once you have completed all of the code implementations and successfully answered each question above, you may finalize your work by exporting the iPython Notebook as an HTML document. You can do this by using the menu above and navigating to  \\n\",\n",
    "    \"**File -> Download as -> HTML (.html)**. Include the finished document along with this notebook as your submission."
   ]
  },
  {
   "cell_type": "markdown",
   "metadata": {},
   "source": [
    "---\n",
    "\n",
    "## Step 4 (Optional): Visualize the Neural Network's State with Test Images\n",
    "\n",
    " This Section is not required to complete but acts as an additional excersise for understaning the output of a neural network's weights. While neural networks can be a great learning device they are often referred to as a black box. We can understand what the weights of a neural network look like better by plotting their feature maps. After successfully training your neural network you can see what it's feature maps look like by plotting the output of the network's weight layers in response to a test stimuli image. From these plotted feature maps, it's possible to see what characteristics of an image the network finds interesting. For a sign, maybe the inner network feature maps react with high activation to the sign's boundary outline or to the contrast in the sign's painted symbol.\n",
    "\n",
    " Provided for you below is the function code that allows you to get the visualization output of any tensorflow weight layer you want. The inputs to the function should be a stimuli image, one used during training or a new one you provided, and then the tensorflow variable name that represents the layer's state during the training process, for instance if you wanted to see what the [LeNet lab's](https://classroom.udacity.com/nanodegrees/nd013/parts/fbf77062-5703-404e-b60c-95b78b2f3f9e/modules/6df7ae49-c61c-4bb2-a23e-6527e69209ec/lessons/601ae704-1035-4287-8b11-e2c2716217ad/concepts/d4aca031-508f-4e0b-b493-e7b706120f81) feature maps looked like for it's second convolutional layer you could enter conv2 as the tf_activation variable.\n",
    "\n",
    "For an example of what feature map outputs look like, check out NVIDIA's results in their paper [End-to-End Deep Learning for Self-Driving Cars](https://devblogs.nvidia.com/parallelforall/deep-learning-self-driving-cars/) in the section Visualization of internal CNN State. NVIDIA was able to show that their network's inner weights had high activations to road boundary lines by comparing feature maps from an image with a clear path to one without. Try experimenting with a similar test to show that your trained network's weights are looking for interesting features, whether it's looking at differences in feature maps from images with or without a sign, or even what feature maps look like in a trained network vs a completely untrained one on the same sign image.\n",
    "\n",
    "<figure>\n",
    " <img src=\"visualize_cnn.png\" width=\"380\" alt=\"Combined Image\" />\n",
    " <figcaption>\n",
    " <p></p> \n",
    " <p style=\"text-align: center;\"> Your output should look something like this (above)</p> \n",
    " </figcaption>\n",
    "</figure>\n",
    " <p></p> \n"
   ]
  },
  {
   "cell_type": "code",
   "execution_count": null,
   "metadata": {
    "collapsed": true
   },
   "outputs": [],
   "source": [
    "### Visualize your network's feature maps here.\n",
    "### Feel free to use as many code cells as needed.\n",
    "\n",
    "# image_input: the test image being fed into the network to produce the feature maps\n",
    "# tf_activation: should be a tf variable name used during your training procedure that represents the calculated state of a specific weight layer\n",
    "# activation_min/max: can be used to view the activation contrast in more detail, by default matplot sets min and max to the actual min and max values of the output\n",
    "# plt_num: used to plot out multiple different weight feature map sets on the same block, just extend the plt number for each new feature map entry\n",
    "\n",
    "def outputFeatureMap(image_input, tf_activation, activation_min=-1, activation_max=-1 ,plt_num=1):\n",
    "    # Here make sure to preprocess your image_input in a way your network expects\n",
    "    # with size, normalization, ect if needed\n",
    "    # image_input =\n",
    "    # Note: x should be the same name as your network's tensorflow data placeholder variable\n",
    "    # If you get an error tf_activation is not defined it may be having trouble accessing the variable from inside a function\n",
    "    activation = tf_activation.eval(session=sess,feed_dict={x : image_input})\n",
    "    featuremaps = activation.shape[3]\n",
    "    plt.figure(plt_num, figsize=(15,15))\n",
    "    for featuremap in range(featuremaps):\n",
    "        plt.subplot(6,8, featuremap+1) # sets the number of feature maps to show on each row and column\n",
    "        plt.title('FeatureMap ' + str(featuremap)) # displays the feature map number\n",
    "        if activation_min != -1 & activation_max != -1:\n",
    "            plt.imshow(activation[0,:,:, featuremap], interpolation=\"nearest\", vmin =activation_min, vmax=activation_max, cmap=\"gray\")\n",
    "        elif activation_max != -1:\n",
    "            plt.imshow(activation[0,:,:, featuremap], interpolation=\"nearest\", vmax=activation_max, cmap=\"gray\")\n",
    "        elif activation_min !=-1:\n",
    "            plt.imshow(activation[0,:,:, featuremap], interpolation=\"nearest\", vmin=activation_min, cmap=\"gray\")\n",
    "        else:\n",
    "            plt.imshow(activation[0,:,:, featuremap], interpolation=\"nearest\", cmap=\"gray\")"
   ]
  }
 ],
 "metadata": {
  "anaconda-cloud": {},
  "kernelspec": {
   "display_name": "Python 3",
   "language": "python",
   "name": "python3"
  },
  "language_info": {
   "codemirror_mode": {
    "name": "ipython",
    "version": 3
   },
   "file_extension": ".py",
   "mimetype": "text/x-python",
   "name": "python",
   "nbconvert_exporter": "python",
   "pygments_lexer": "ipython3",
   "version": "3.5.2"
  },
  "widgets": {
   "state": {},
   "version": "1.1.2"
  }
 },
 "nbformat": 4,
 "nbformat_minor": 1
}
