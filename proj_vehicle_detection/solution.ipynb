{
 "cells": [
  {
   "cell_type": "markdown",
   "metadata": {},
   "source": [
    "## Vehicle Detection Project\n",
    "\n",
    "The goals / steps of this project are the following:\n",
    "\n",
    "* Perform a Histogram of Oriented Gradients (HOG) feature extraction on a labeled training set of images and train a classifier Linear SVM classifier\n",
    "* Optionally, you can also apply a color transform and append binned color features, as well as histograms of color, to your HOG feature vector. \n",
    "* Note: for those first two steps don't forget to normalize your features and randomize a selection for training and testing.\n",
    "* Implement a sliding-window technique and use your trained classifier to search for vehicles in images.\n",
    "* Run your pipeline on a video stream (start with the test_video.mp4 and later implement on full project_video.mp4) and create a heat map of recurring detections frame by frame to reject outliers and follow detected vehicles.\n",
    "* Estimate a bounding box for vehicles detected.\n"
   ]
  },
  {
   "cell_type": "markdown",
   "metadata": {},
   "source": [
    "### 1. perform histogram of oriented gradients (HOG) feature extraction on image"
   ]
  },
  {
   "cell_type": "code",
   "execution_count": null,
   "metadata": {},
   "outputs": [],
   "source": [
    "import cv2\n",
    "import numpy\n",
    "import matplotlib.pyplot as plt\n",
    "%matplotlib inline"
   ]
  },
  {
   "cell_type": "code",
   "execution_count": null,
   "metadata": {
    "collapsed": true
   },
   "outputs": [],
   "source": [
    "def draw_boxes(img, bboxes, color = (0,0,225), thick = 6):\n",
    "    drawimg = np.copy(img)\n",
    "    for bbox in bboxes:\n",
    "        p1, p2 = bbox\n",
    "        cv2.rectangle(drawimg, p1, p2, color, thick)\n",
    "    return drawimg"
   ]
  },
  {
   "cell_type": "code",
   "execution_count": null,
   "metadata": {
    "collapsed": true
   },
   "outputs": [],
   "source": [
    "def find_matches(img, template_list):\n",
    "    # Define an empty list to take bbox coords\n",
    "    bbox_list = []\n",
    "    # Define matching method\n",
    "    # Other options include: cv2.TM_CCORR_NORMED', 'cv2.TM_CCOEFF', 'cv2.TM_CCORR',\n",
    "    #         'cv2.TM_SQDIFF', 'cv2.TM_SQDIFF_NORMED'\n",
    "    method = cv2.TM_CCOEFF_NORMED\n",
    "    # Iterate through template list\n",
    "    for temp in template_list:\n",
    "        # Read in templates one by one\n",
    "        tmp = mpimg.imread(temp)\n",
    "        # Use cv2.matchTemplate() to search the image\n",
    "        result = cv2.matchTemplate(img, tmp, method)\n",
    "        # Use cv2.minMaxLoc() to extract the location of the best match\n",
    "        min_val, max_val, min_loc, max_loc = cv2.minMaxLoc(result)\n",
    "        # Determine a bounding box for the match\n",
    "        w, h = (tmp.shape[1], tmp.shape[0])\n",
    "        if method in [cv2.TM_SQDIFF, cv2.TM_SQDIFF_NORMED]:\n",
    "            top_left = min_loc\n",
    "        else:\n",
    "            top_left = max_loc\n",
    "        bottom_right = (top_left[0] + w, top_left[1] + h)\n",
    "        bbox_list.append((top_left, bottom_right))\n",
    "    return bbox_list"
   ]
  },
  {
   "cell_type": "code",
   "execution_count": 2,
   "metadata": {
    "collapsed": true
   },
   "outputs": [],
   "source": [
    "from skimage.feature import hog\n",
    "def get_hog_feature(img, orient = 9, pix_per_cell = 8, cell_per_block = 2, vis = False, feature_vec = True):\n",
    "    if vis == True:\n",
    "        features, hog_image = hog(img, orientations = orient,\n",
    "                                 pixels_per_cell = (pix_per_cell, pix_per_cell),\n",
    "                                 cells_per_block = (cell_per_block, cell_per_block),\n",
    "                                 visualise = True, feature_vector = feature_vec)\n",
    "        return features, hog_image\n",
    "    else:\n",
    "        features, hog_image = hog(img, orientations = orient, \n",
    "                                 pixels_per_cell = (pix_per_cell, pix_per_cell),\n",
    "                                 cells_per_block = (cell_per_block, cell_per_block),\n",
    "                                 visualise = False,\n",
    "                                 feature_vector = feature_vec)\n",
    "        return features"
   ]
  },
  {
   "cell_type": "code",
   "execution_count": null,
   "metadata": {
    "collapsed": true
   },
   "outputs": [],
   "source": [
    "def get_color_histogram(img, nbin = 32, bins_range = (0, 256)):\n",
    "    # assert img format is 'rgb'\n",
    "    r_hist = np.histogram(img[:,:,0], bins = nbin, range = bins_range)\n",
    "    g_hist = np.histogram(img[:,:,1], bins = nbin, rnage = bins_range)\n",
    "    b_hist = np.histogram(img[:,:,2], bins = nbin, rnage = bins_range)\n",
    "    bin_center = (r_hist[1][0:-1] + r_hist[1][1:])/2\n",
    "    hist = np.concatenate((r_hist[0], g_hist[0], b_hist[0]))\n",
    "    return r_hist, g_hist, b_hist, bin_center, hist"
   ]
  },
  {
   "cell_type": "code",
   "execution_count": 3,
   "metadata": {
    "collapsed": true
   },
   "outputs": [],
   "source": [
    "def binning_features(img, color_space = 'rgb', size = (32,32)):\n",
    "    img2 = cv2.resize(img, size)\n",
    "    feature = cv2.ravel(img2)\n",
    "    return feature"
   ]
  },
  {
   "cell_type": "code",
   "execution_count": null,
   "metadata": {},
   "outputs": [],
   "source": [
    "# use the method above to extract features and do the preprocessing\n",
    "def extrac_features(img):\n",
    "    pass\n"
   ]
  },
  {
   "cell_type": "code",
   "execution_count": null,
   "metadata": {},
   "outputs": [],
   "source": [
    "def cross_validation_search():\n",
    "    parameters = {'kernel': ('linear','rbf'), 'C':[1, 10]}\n",
    "    svr = svm.SVC()\n",
    "    clf = grid_search.GridSearchCV(svr, parameters)\n",
    "    clf.fit(iris.data, iris.target)\n",
    "    return clf.best_params_\n"
   ]
  },
  {
   "cell_type": "code",
   "execution_count": null,
   "metadata": {},
   "outputs": [],
   "source": [
    "from sklearn.preprocessing import StandardScaler\n",
    "X = np.vstack((cat_features,notcar_features)).astype(np.float64)\n",
    "X_scaler = StandardScaler().fit(X)\n",
    "scaled_X = X_scaler.transform(X)\n"
   ]
  },
  {
   "cell_type": "code",
   "execution_count": 4,
   "metadata": {
    "collapsed": true
   },
   "outputs": [],
   "source": [
    "def sliding_windows(img):\n",
    "    pass\n"
   ]
  },
  {
   "cell_type": "code",
   "execution_count": 5,
   "metadata": {
    "collapsed": true
   },
   "outputs": [],
   "source": [
    "def create_heat_map(img):\n",
    "    pass\n"
   ]
  },
  {
   "cell_type": "code",
   "execution_count": 6,
   "metadata": {
    "collapsed": true
   },
   "outputs": [],
   "source": [
    "def pipeline(img):\n",
    "    pass\n"
   ]
  },
  {
   "cell_type": "markdown",
   "metadata": {},
   "source": [
    "## And so on and so forth..."
   ]
  },
  {
   "cell_type": "code",
   "execution_count": null,
   "metadata": {
    "collapsed": true
   },
   "outputs": [],
   "source": []
  },
  {
   "cell_type": "code",
   "execution_count": null,
   "metadata": {
    "collapsed": true
   },
   "outputs": [],
   "source": []
  }
 ],
 "metadata": {
  "anaconda-cloud": {},
  "kernelspec": {
   "display_name": "Python 3",
   "language": "python",
   "name": "python3"
  },
  "language_info": {
   "codemirror_mode": {
    "name": "ipython",
    "version": 3
   },
   "file_extension": ".py",
   "mimetype": "text/x-python",
   "name": "python",
   "nbconvert_exporter": "python",
   "pygments_lexer": "ipython3",
   "version": "3.5.2"
  },
  "widgets": {
   "state": {},
   "version": "1.1.2"
  }
 },
 "nbformat": 4,
 "nbformat_minor": 1
}
